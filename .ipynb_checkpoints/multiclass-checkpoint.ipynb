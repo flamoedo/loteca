{
 "cells": [
  {
   "cell_type": "markdown",
   "metadata": {},
   "source": [
    "# Loteca"
   ]
  },
  {
   "cell_type": "code",
   "execution_count": 1,
   "metadata": {},
   "outputs": [],
   "source": [
    "# import keras\n",
    "import pandas as pd\n",
    "import numpy as np\n",
    "import math\n",
    "import matplotlib.pyplot as plt\n",
    "# from sklearn.model_selection import train_test_split"
   ]
  },
  {
   "cell_type": "markdown",
   "metadata": {},
   "source": [
    "### Ler arquivo"
   ]
  },
  {
   "cell_type": "code",
   "execution_count": 2,
   "metadata": {},
   "outputs": [],
   "source": [
    "df = np.load('arquivo.npy')"
   ]
  },
  {
   "cell_type": "code",
   "execution_count": 3,
   "metadata": {},
   "outputs": [],
   "source": [
    "# Define o ganhador H = casa, A = Vizitante, D = empate\n",
    "for i in range(len(df)):\n",
    "    df[i,8] = 'H' if (int(df[i,2]) - int(df[i,6])) > 0 else 'A' if (int(df[i,2]) - int(df[i,6])) < 0 else 'D'"
   ]
  },
  {
   "cell_type": "code",
   "execution_count": 4,
   "metadata": {},
   "outputs": [],
   "source": [
    "# Cria um data frame para receber os valores\n",
    "df_ = pd.DataFrame(df,columns=['Concurso','Jogo','HG','Home','S','Away','AG','Dia','Res'])"
   ]
  },
  {
   "cell_type": "code",
   "execution_count": 5,
   "metadata": {},
   "outputs": [],
   "source": [
    "# Transforma as colunas de gols em inteiros\n",
    "df_ = df_.astype({\"HG\": int, \"AG\": int})"
   ]
  },
  {
   "cell_type": "code",
   "execution_count": 6,
   "metadata": {},
   "outputs": [
    {
     "data": {
      "text/html": [
       "<div>\n",
       "<style scoped>\n",
       "    .dataframe tbody tr th:only-of-type {\n",
       "        vertical-align: middle;\n",
       "    }\n",
       "\n",
       "    .dataframe tbody tr th {\n",
       "        vertical-align: top;\n",
       "    }\n",
       "\n",
       "    .dataframe thead th {\n",
       "        text-align: right;\n",
       "    }\n",
       "</style>\n",
       "<table border=\"1\" class=\"dataframe\">\n",
       "  <thead>\n",
       "    <tr style=\"text-align: right;\">\n",
       "      <th></th>\n",
       "      <th>Concurso</th>\n",
       "      <th>Jogo</th>\n",
       "      <th>HG</th>\n",
       "      <th>Home</th>\n",
       "      <th>S</th>\n",
       "      <th>Away</th>\n",
       "      <th>AG</th>\n",
       "      <th>Dia</th>\n",
       "      <th>Res</th>\n",
       "    </tr>\n",
       "  </thead>\n",
       "  <tbody>\n",
       "    <tr>\n",
       "      <th>0</th>\n",
       "      <td>Concurso 1 (18/02/2002)</td>\n",
       "      <td>1</td>\n",
       "      <td>2</td>\n",
       "      <td>FLAMENGO/RJ</td>\n",
       "      <td></td>\n",
       "      <td>S. PAULO/SP</td>\n",
       "      <td>4</td>\n",
       "      <td>Domingo</td>\n",
       "      <td>A</td>\n",
       "    </tr>\n",
       "    <tr>\n",
       "      <th>1</th>\n",
       "      <td>Concurso 1 (18/02/2002)</td>\n",
       "      <td>2</td>\n",
       "      <td>3</td>\n",
       "      <td>VASCO/RJ</td>\n",
       "      <td></td>\n",
       "      <td>AMERICANO/RJ</td>\n",
       "      <td>0</td>\n",
       "      <td>Domingo</td>\n",
       "      <td>H</td>\n",
       "    </tr>\n",
       "    <tr>\n",
       "      <th>2</th>\n",
       "      <td>Concurso 1 (18/02/2002)</td>\n",
       "      <td>3</td>\n",
       "      <td>2</td>\n",
       "      <td>SANTOS/SP</td>\n",
       "      <td></td>\n",
       "      <td>SÃO CAETANO/SP</td>\n",
       "      <td>1</td>\n",
       "      <td>Domingo</td>\n",
       "      <td>H</td>\n",
       "    </tr>\n",
       "    <tr>\n",
       "      <th>3</th>\n",
       "      <td>Concurso 1 (18/02/2002)</td>\n",
       "      <td>4</td>\n",
       "      <td>1</td>\n",
       "      <td>P. DESPORTOS/SP</td>\n",
       "      <td></td>\n",
       "      <td>CORINTHIANS/SP</td>\n",
       "      <td>4</td>\n",
       "      <td>Domingo</td>\n",
       "      <td>A</td>\n",
       "    </tr>\n",
       "    <tr>\n",
       "      <th>4</th>\n",
       "      <td>Concurso 1 (18/02/2002)</td>\n",
       "      <td>5</td>\n",
       "      <td>7</td>\n",
       "      <td>CRUZEIRO/MG</td>\n",
       "      <td></td>\n",
       "      <td>AMÉRICA/MG</td>\n",
       "      <td>0</td>\n",
       "      <td>Sábado</td>\n",
       "      <td>H</td>\n",
       "    </tr>\n",
       "  </tbody>\n",
       "</table>\n",
       "</div>"
      ],
      "text/plain": [
       "                  Concurso Jogo  HG             Home  S            Away  AG  \\\n",
       "0  Concurso 1 (18/02/2002)    1   2      FLAMENGO/RJ        S. PAULO/SP   4   \n",
       "1  Concurso 1 (18/02/2002)    2   3         VASCO/RJ       AMERICANO/RJ   0   \n",
       "2  Concurso 1 (18/02/2002)    3   2        SANTOS/SP     SÃO CAETANO/SP   1   \n",
       "3  Concurso 1 (18/02/2002)    4   1  P. DESPORTOS/SP     CORINTHIANS/SP   4   \n",
       "4  Concurso 1 (18/02/2002)    5   7      CRUZEIRO/MG         AMÉRICA/MG   0   \n",
       "\n",
       "        Dia Res  \n",
       "0  Domingo    A  \n",
       "1  Domingo    H  \n",
       "2  Domingo    H  \n",
       "3  Domingo    A  \n",
       "4   Sábado    H  "
      ]
     },
     "execution_count": 6,
     "metadata": {},
     "output_type": "execute_result"
    }
   ],
   "source": [
    "df_.head()"
   ]
  },
  {
   "cell_type": "markdown",
   "metadata": {},
   "source": [
    "### Frequencia de vitórias em casa (H), empates (D) e visitantes (A)"
   ]
  },
  {
   "cell_type": "code",
   "execution_count": 7,
   "metadata": {},
   "outputs": [
    {
     "data": {
      "text/plain": [
       "<BarContainer object of 3 artists>"
      ]
     },
     "execution_count": 7,
     "metadata": {},
     "output_type": "execute_result"
    },
    {
     "data": {
      "image/png": "[encoded data removed]",
      "text/plain": [
       "<Figure size 432x288 with 1 Axes>"
      ]
     },
     "metadata": {
      "needs_background": "light"
     },
     "output_type": "display_data"
    }
   ],
   "source": [
    "plt.bar(df_['Res'].value_counts().keys(),df_['Res'].value_counts())"
   ]
  },
  {
   "cell_type": "markdown",
   "metadata": {},
   "source": [
    "### Média de gols dos últimos jogos"
   ]
  },
  {
   "cell_type": "code",
   "execution_count": 8,
   "metadata": {},
   "outputs": [],
   "source": [
    "# Calcula a soma de gols feitos das ultimas n (window) partidas\n",
    "def get_rolling_goals(dataFrame, equip, pos, window, HG_AG):   \n",
    "    HA = 'Home' if HG_AG == 'HG' else 'Away' if HG_AG == 'AG' else ''\n",
    "    s = dataFrame[:pos][dataFrame[HA] == equip][HG_AG][-window:].sum()\n",
    "    return s if not(np.isnan(s)) else 0\n",
    "\n",
    "# Calcula a soma de gols recebidos das ultimas n (window) partidas\n",
    "def get_rolling_received(dataFrame, equip, pos, window, HG_AG):   \n",
    "    HA = 'Home' if HG_AG == 'HG' else 'Away' if HG_AG == 'AG' else ''\n",
    "    HG_AG_ = 'HG' if HG_AG == 'AG' else 'AG' if HG_AG == 'HG' else ''\n",
    "    s = dataFrame[:pos][dataFrame[HA] == equip][HG_AG_][-window:].sum()\n",
    "    return s if not(np.isnan(s)) else 0\n",
    "\n",
    "    "
   ]
  },
  {
   "cell_type": "code",
   "execution_count": 9,
   "metadata": {},
   "outputs": [
    {
     "name": "stderr",
     "output_type": "stream",
     "text": [
      "C:\\Users\\flamo\\AppData\\Local\\conda\\conda\\envs\\tensorflow-gpu\\lib\\site-packages\\ipykernel_launcher.py:4: UserWarning: Boolean Series key will be reindexed to match DataFrame index.\n",
      "  after removing the cwd from sys.path.\n",
      "C:\\Users\\flamo\\AppData\\Local\\conda\\conda\\envs\\tensorflow-gpu\\lib\\site-packages\\ipykernel_launcher.py:11: UserWarning: Boolean Series key will be reindexed to match DataFrame index.\n",
      "  # This is added back by InteractiveShellApp.init_path()\n"
     ]
    }
   ],
   "source": [
    "dfg = []\n",
    "for idx, row in df_.iterrows():\n",
    "    row['H_Goals_Scored'] = get_rolling_goals(df_, row['Home'], idx, 20, 'HG')\n",
    "    row['A_Goals_Scored'] = get_rolling_goals(df_, row['Away'], idx, 20, 'AG')\n",
    "    row['H_Goals_Against'] = get_rolling_received(df_, row['Home'], idx, 20, 'HG')\n",
    "    row['A_Goals_Against'] = get_rolling_received(df_, row['Away'], idx, 20, 'AG')\n",
    "    dfg.append(row)\n",
    "    \n",
    "    \n",
    "    \n",
    "    "
   ]
  },
  {
   "cell_type": "code",
   "execution_count": 10,
   "metadata": {},
   "outputs": [],
   "source": [
    "dfgs = pd.DataFrame(dfg)"
   ]
  },
  {
   "cell_type": "code",
   "execution_count": 11,
   "metadata": {},
   "outputs": [
    {
     "data": {
      "text/html": [
       "<div>\n",
       "<style scoped>\n",
       "    .dataframe tbody tr th:only-of-type {\n",
       "        vertical-align: middle;\n",
       "    }\n",
       "\n",
       "    .dataframe tbody tr th {\n",
       "        vertical-align: top;\n",
       "    }\n",
       "\n",
       "    .dataframe thead th {\n",
       "        text-align: right;\n",
       "    }\n",
       "</style>\n",
       "<table border=\"1\" class=\"dataframe\">\n",
       "  <thead>\n",
       "    <tr style=\"text-align: right;\">\n",
       "      <th></th>\n",
       "      <th>Concurso</th>\n",
       "      <th>Jogo</th>\n",
       "      <th>HG</th>\n",
       "      <th>Home</th>\n",
       "      <th>S</th>\n",
       "      <th>Away</th>\n",
       "      <th>AG</th>\n",
       "      <th>Dia</th>\n",
       "      <th>Res</th>\n",
       "      <th>H_Goals_Scored</th>\n",
       "      <th>A_Goals_Scored</th>\n",
       "      <th>H_Goals_Against</th>\n",
       "      <th>A_Goals_Against</th>\n",
       "    </tr>\n",
       "  </thead>\n",
       "  <tbody>\n",
       "    <tr>\n",
       "      <th>11182</th>\n",
       "      <td>Concurso 800 (21/05/2018)</td>\n",
       "      <td>1</td>\n",
       "      <td>1</td>\n",
       "      <td>SÃO PAULO/SP</td>\n",
       "      <td></td>\n",
       "      <td>SANTOS/SP</td>\n",
       "      <td>0</td>\n",
       "      <td>Domingo</td>\n",
       "      <td>H</td>\n",
       "      <td>34</td>\n",
       "      <td>19</td>\n",
       "      <td>18</td>\n",
       "      <td>23</td>\n",
       "    </tr>\n",
       "    <tr>\n",
       "      <th>11183</th>\n",
       "      <td>Concurso 800 (21/05/2018)</td>\n",
       "      <td>2</td>\n",
       "      <td>1</td>\n",
       "      <td>ATLÉTICO/MG</td>\n",
       "      <td></td>\n",
       "      <td>CRUZEIRO/MG</td>\n",
       "      <td>0</td>\n",
       "      <td>Sábado</td>\n",
       "      <td>H</td>\n",
       "      <td>36</td>\n",
       "      <td>19</td>\n",
       "      <td>22</td>\n",
       "      <td>23</td>\n",
       "    </tr>\n",
       "    <tr>\n",
       "      <th>11184</th>\n",
       "      <td>Concurso 800 (21/05/2018)</td>\n",
       "      <td>3</td>\n",
       "      <td>1</td>\n",
       "      <td>FLAMENGO/RJ</td>\n",
       "      <td></td>\n",
       "      <td>VASCO DA GAMA/RJ</td>\n",
       "      <td>1</td>\n",
       "      <td>Sábado</td>\n",
       "      <td>D</td>\n",
       "      <td>33</td>\n",
       "      <td>20</td>\n",
       "      <td>10</td>\n",
       "      <td>25</td>\n",
       "    </tr>\n",
       "    <tr>\n",
       "      <th>11185</th>\n",
       "      <td>Concurso 800 (21/05/2018)</td>\n",
       "      <td>4</td>\n",
       "      <td>1</td>\n",
       "      <td>LONDRINA/PR</td>\n",
       "      <td></td>\n",
       "      <td>CSA/AL</td>\n",
       "      <td>2</td>\n",
       "      <td>Sábado</td>\n",
       "      <td>A</td>\n",
       "      <td>21</td>\n",
       "      <td>14</td>\n",
       "      <td>17</td>\n",
       "      <td>16</td>\n",
       "    </tr>\n",
       "    <tr>\n",
       "      <th>11186</th>\n",
       "      <td>Concurso 800 (21/05/2018)</td>\n",
       "      <td>5</td>\n",
       "      <td>1</td>\n",
       "      <td>PONTE PRETA/SP</td>\n",
       "      <td></td>\n",
       "      <td>ATLÉTICO/GO</td>\n",
       "      <td>3</td>\n",
       "      <td>Sábado</td>\n",
       "      <td>A</td>\n",
       "      <td>21</td>\n",
       "      <td>21</td>\n",
       "      <td>21</td>\n",
       "      <td>20</td>\n",
       "    </tr>\n",
       "    <tr>\n",
       "      <th>11187</th>\n",
       "      <td>Concurso 800 (21/05/2018)</td>\n",
       "      <td>6</td>\n",
       "      <td>1</td>\n",
       "      <td>BOA ESPORTE/MG</td>\n",
       "      <td></td>\n",
       "      <td>CORITIBA/PR</td>\n",
       "      <td>1</td>\n",
       "      <td>Sábado</td>\n",
       "      <td>D</td>\n",
       "      <td>20</td>\n",
       "      <td>24</td>\n",
       "      <td>9</td>\n",
       "      <td>25</td>\n",
       "    </tr>\n",
       "    <tr>\n",
       "      <th>11188</th>\n",
       "      <td>Concurso 800 (21/05/2018)</td>\n",
       "      <td>7</td>\n",
       "      <td>0</td>\n",
       "      <td>PARANÁ/PR</td>\n",
       "      <td></td>\n",
       "      <td>GRÊMIO/RS</td>\n",
       "      <td>0</td>\n",
       "      <td>Domingo</td>\n",
       "      <td>D</td>\n",
       "      <td>25</td>\n",
       "      <td>19</td>\n",
       "      <td>20</td>\n",
       "      <td>26</td>\n",
       "    </tr>\n",
       "    <tr>\n",
       "      <th>11189</th>\n",
       "      <td>Concurso 800 (21/05/2018)</td>\n",
       "      <td>8</td>\n",
       "      <td>1</td>\n",
       "      <td>SPORT/PE</td>\n",
       "      <td></td>\n",
       "      <td>CORINTHIANS/SP</td>\n",
       "      <td>1</td>\n",
       "      <td>Domingo</td>\n",
       "      <td>D</td>\n",
       "      <td>29</td>\n",
       "      <td>25</td>\n",
       "      <td>23</td>\n",
       "      <td>16</td>\n",
       "    </tr>\n",
       "    <tr>\n",
       "      <th>11190</th>\n",
       "      <td>Concurso 800 (21/05/2018)</td>\n",
       "      <td>9</td>\n",
       "      <td>3</td>\n",
       "      <td>PALMEIRAS/SP</td>\n",
       "      <td></td>\n",
       "      <td>BAHIA/BA</td>\n",
       "      <td>0</td>\n",
       "      <td>Sábado</td>\n",
       "      <td>H</td>\n",
       "      <td>33</td>\n",
       "      <td>18</td>\n",
       "      <td>11</td>\n",
       "      <td>20</td>\n",
       "    </tr>\n",
       "    <tr>\n",
       "      <th>11191</th>\n",
       "      <td>Concurso 800 (21/05/2018)</td>\n",
       "      <td>10</td>\n",
       "      <td>2</td>\n",
       "      <td>VITÓRIA/BA</td>\n",
       "      <td></td>\n",
       "      <td>CEARÁ/CE</td>\n",
       "      <td>1</td>\n",
       "      <td>Domingo</td>\n",
       "      <td>H</td>\n",
       "      <td>21</td>\n",
       "      <td>19</td>\n",
       "      <td>18</td>\n",
       "      <td>26</td>\n",
       "    </tr>\n",
       "    <tr>\n",
       "      <th>11192</th>\n",
       "      <td>Concurso 800 (21/05/2018)</td>\n",
       "      <td>11</td>\n",
       "      <td>3</td>\n",
       "      <td>SALGUEIRO/PE</td>\n",
       "      <td></td>\n",
       "      <td>ABC/RN</td>\n",
       "      <td>0</td>\n",
       "      <td>Sábado</td>\n",
       "      <td>H</td>\n",
       "      <td>28</td>\n",
       "      <td>15</td>\n",
       "      <td>12</td>\n",
       "      <td>31</td>\n",
       "    </tr>\n",
       "    <tr>\n",
       "      <th>11193</th>\n",
       "      <td>Concurso 800 (21/05/2018)</td>\n",
       "      <td>12</td>\n",
       "      <td>3</td>\n",
       "      <td>BOTAFOGO/SP</td>\n",
       "      <td></td>\n",
       "      <td>JOINVILLE/SC</td>\n",
       "      <td>0</td>\n",
       "      <td>Domingo</td>\n",
       "      <td>H</td>\n",
       "      <td>25</td>\n",
       "      <td>17</td>\n",
       "      <td>30</td>\n",
       "      <td>21</td>\n",
       "    </tr>\n",
       "    <tr>\n",
       "      <th>11194</th>\n",
       "      <td>Concurso 800 (21/05/2018)</td>\n",
       "      <td>13</td>\n",
       "      <td>1</td>\n",
       "      <td>AMÉRICA/MG</td>\n",
       "      <td></td>\n",
       "      <td>BOTAFOGO/RJ</td>\n",
       "      <td>0</td>\n",
       "      <td>Domingo</td>\n",
       "      <td>H</td>\n",
       "      <td>19</td>\n",
       "      <td>11</td>\n",
       "      <td>18</td>\n",
       "      <td>13</td>\n",
       "    </tr>\n",
       "    <tr>\n",
       "      <th>11195</th>\n",
       "      <td>Concurso 800 (21/05/2018)</td>\n",
       "      <td>14</td>\n",
       "      <td>2</td>\n",
       "      <td>FLUMINENSE/RJ</td>\n",
       "      <td></td>\n",
       "      <td>ATLÉTICO/PR</td>\n",
       "      <td>0</td>\n",
       "      <td>Domingo</td>\n",
       "      <td>H</td>\n",
       "      <td>28</td>\n",
       "      <td>11</td>\n",
       "      <td>15</td>\n",
       "      <td>23</td>\n",
       "    </tr>\n",
       "  </tbody>\n",
       "</table>\n",
       "</div>"
      ],
      "text/plain": [
       "                        Concurso Jogo  HG            Home  S  \\\n",
       "11182  Concurso 800 (21/05/2018)    1   1    SÃO PAULO/SP      \n",
       "11183  Concurso 800 (21/05/2018)    2   1     ATLÉTICO/MG      \n",
       "11184  Concurso 800 (21/05/2018)    3   1     FLAMENGO/RJ      \n",
       "11185  Concurso 800 (21/05/2018)    4   1     LONDRINA/PR      \n",
       "11186  Concurso 800 (21/05/2018)    5   1  PONTE PRETA/SP      \n",
       "11187  Concurso 800 (21/05/2018)    6   1  BOA ESPORTE/MG      \n",
       "11188  Concurso 800 (21/05/2018)    7   0       PARANÁ/PR      \n",
       "11189  Concurso 800 (21/05/2018)    8   1        SPORT/PE      \n",
       "11190  Concurso 800 (21/05/2018)    9   3    PALMEIRAS/SP      \n",
       "11191  Concurso 800 (21/05/2018)   10   2      VITÓRIA/BA      \n",
       "11192  Concurso 800 (21/05/2018)   11   3    SALGUEIRO/PE      \n",
       "11193  Concurso 800 (21/05/2018)   12   3     BOTAFOGO/SP      \n",
       "11194  Concurso 800 (21/05/2018)   13   1      AMÉRICA/MG      \n",
       "11195  Concurso 800 (21/05/2018)   14   2   FLUMINENSE/RJ      \n",
       "\n",
       "                   Away  AG       Dia Res  H_Goals_Scored  A_Goals_Scored  \\\n",
       "11182         SANTOS/SP   0  Domingo    H              34              19   \n",
       "11183       CRUZEIRO/MG   0   Sábado    H              36              19   \n",
       "11184  VASCO DA GAMA/RJ   1   Sábado    D              33              20   \n",
       "11185            CSA/AL   2   Sábado    A              21              14   \n",
       "11186       ATLÉTICO/GO   3   Sábado    A              21              21   \n",
       "11187       CORITIBA/PR   1   Sábado    D              20              24   \n",
       "11188         GRÊMIO/RS   0  Domingo    D              25              19   \n",
       "11189    CORINTHIANS/SP   1  Domingo    D              29              25   \n",
       "11190          BAHIA/BA   0   Sábado    H              33              18   \n",
       "11191          CEARÁ/CE   1  Domingo    H              21              19   \n",
       "11192            ABC/RN   0   Sábado    H              28              15   \n",
       "11193      JOINVILLE/SC   0  Domingo    H              25              17   \n",
       "11194       BOTAFOGO/RJ   0  Domingo    H              19              11   \n",
       "11195       ATLÉTICO/PR   0  Domingo    H              28              11   \n",
       "\n",
       "       H_Goals_Against  A_Goals_Against  \n",
       "11182               18               23  \n",
       "11183               22               23  \n",
       "11184               10               25  \n",
       "11185               17               16  \n",
       "11186               21               20  \n",
       "11187                9               25  \n",
       "11188               20               26  \n",
       "11189               23               16  \n",
       "11190               11               20  \n",
       "11191               18               26  \n",
       "11192               12               31  \n",
       "11193               30               21  \n",
       "11194               18               13  \n",
       "11195               15               23  "
      ]
     },
     "execution_count": 11,
     "metadata": {},
     "output_type": "execute_result"
    }
   ],
   "source": [
    "dfgs[dfgs['Concurso']=='Concurso 800 (21/05/2018)']"
   ]
  },
  {
   "cell_type": "code",
   "execution_count": 12,
   "metadata": {},
   "outputs": [],
   "source": [
    "dfgs.to_csv('arquivo_loteca1.csv')"
   ]
  },
  {
   "cell_type": "markdown",
   "metadata": {},
   "source": [
    "### Nomes dos times"
   ]
  },
  {
   "cell_type": "code",
   "execution_count": null,
   "metadata": {},
   "outputs": [],
   "source": [
    "# Cria uma lista de nomes dos times\n",
    "vocab = np.unique(np.concatenate((np.array(df_['Home'].unique()), np.array(df_['Away'].unique()))))"
   ]
  },
  {
   "cell_type": "code",
   "execution_count": null,
   "metadata": {},
   "outputs": [],
   "source": [
    "# Cria o indice de times\n",
    "word2idx = {word: i for i, word in enumerate(vocab)}"
   ]
  },
  {
   "cell_type": "code",
   "execution_count": null,
   "metadata": {},
   "outputs": [],
   "source": [
    "# Retorna o indice de um time:\n",
    "def word2vector(word):\n",
    "    m = np.zeros(len(word2idx))\n",
    "    idx = word2idx.get(word)\n",
    "    if idx == '':\n",
    "        raise ValueError('Time não encontrado no indice: ' + word)\n",
    "\n",
    "    m[word2idx.get(word)] = 1\n",
    "    return m.tolist()"
   ]
  },
  {
   "cell_type": "code",
   "execution_count": null,
   "metadata": {},
   "outputs": [],
   "source": [
    "# Transforma os dois times em um vetor com o flag do time correspondente e a média de gols\n",
    "def prepare(H,A,pos):\n",
    "    \n",
    "    vector = []\n",
    "    \n",
    "    for x in word2vector(H):\n",
    "        if math.isnan(x):\n",
    "            raise ValueError('Time não encontrado no indice: ' + H)\n",
    "\n",
    "        vector.append(x)\n",
    "        \n",
    "    for x in word2vector(A):\n",
    "        if math.isnan(x):\n",
    "            raise ValueError('Time não encontrado no indice: ' + A)\n",
    "            \n",
    "        vector.append(x)\n",
    "        \n",
    "\n",
    "#     Cálculo das médias de gols\n",
    "    vector.append(get_rolling_goals(df_, H, pos, 10, 'HG'))\n",
    "    vector.append(get_rolling_goals(df_, A, pos, 10, 'AG'))\n",
    "    \n",
    "    vector.append(get_rolling_received(df_, H, pos, 10, 'HG'))\n",
    "    vector.append(get_rolling_received(df_, A, pos, 10, 'AG'))\n",
    "\n",
    "    \n",
    "\n",
    "    return vector"
   ]
  },
  {
   "cell_type": "markdown",
   "metadata": {},
   "source": [
    "### Indexar os resultados"
   ]
  },
  {
   "cell_type": "code",
   "execution_count": null,
   "metadata": {},
   "outputs": [],
   "source": [
    "X = []\n",
    "y = []\n",
    "\n",
    "for ind_, row in df_.iterrows():\n",
    "    X.append(prepare(row['Home'], row['Away'], ind_))        \n",
    "    \n",
    "    ry = [1,0,0] if int(row['HG']) > int(row['AG']) else \\\n",
    "    [0,1,0] if int(row['HG']) == int(row['AG']) else \\\n",
    "    [0,0,1] if int(row['HG']) < int(row['AG']) else [0,0,0]\n",
    "\n",
    "    y.append(ry)\n",
    "\n",
    "y = np.array(y).reshape(np.array(y).shape[0],3)\n",
    "\n",
    "X = np.array(X)\n",
    "\n",
    "# Normalizar gols\n",
    "X[:,-4:-3] = X[:,-4:-3]/X[:,-4:-3].max()\n",
    "X[:,-3:-2] = X[:,-3:-2]/X[:,-3:-2].max()\n",
    "X[:,-2:-1] = X[:,-2:-1]/X[:,-2:-1].max()\n",
    "X[:,-1:] = X[:,-1:]/X[:,-1:].max()\n",
    "\n"
   ]
  },
  {
   "cell_type": "code",
   "execution_count": null,
   "metadata": {},
   "outputs": [],
   "source": [
    "weights.min()"
   ]
  },
  {
   "cell_type": "markdown",
   "metadata": {},
   "source": [
    "### Modelo"
   ]
  },
  {
   "cell_type": "code",
   "execution_count": null,
   "metadata": {},
   "outputs": [],
   "source": [
    "from keras.models import Sequential\n",
    "from keras.layers import Dense, Activation, Flatten, Dropout\n",
    "\n",
    "model = Sequential()\n",
    "model.add(Dense(124, input_shape=(np.array(X).shape[1],), activation='relu'))\n",
    "model.add(Dropout(0.2))\n",
    "model.add(Dense(62, activation='relu'))\n",
    "model.add(Dropout(0.2))\n",
    "model.add(Dense(62, activation='relu'))\n",
    "model.add(Dropout(0.2))\n",
    "model.add(Dense(10, activation='relu'))\n",
    "# model.add(Dropout(0.5))\n",
    "# model.add(Flatten())\n",
    "model.add(Dense(3))\n",
    "model.add(Activation('sigmoid'))"
   ]
  },
  {
   "cell_type": "code",
   "execution_count": null,
   "metadata": {},
   "outputs": [],
   "source": [
    "model.compile(optimizer='adam',\n",
    "              loss='binary_crossentropy',\n",
    "              metrics=['accuracy'])\n"
   ]
  },
  {
   "cell_type": "code",
   "execution_count": null,
   "metadata": {},
   "outputs": [],
   "source": []
  },
  {
   "cell_type": "markdown",
   "metadata": {},
   "source": [
    "### Separar os datasets de treinamento e teste"
   ]
  },
  {
   "cell_type": "code",
   "execution_count": null,
   "metadata": {},
   "outputs": [],
   "source": [
    "# X_train, X_test, y_train, y_test = train_test_split(X, y, test_size=0.33, shuffle=True)"
   ]
  },
  {
   "cell_type": "code",
   "execution_count": null,
   "metadata": {},
   "outputs": [],
   "source": [
    "split = 40"
   ]
  },
  {
   "cell_type": "code",
   "execution_count": null,
   "metadata": {},
   "outputs": [],
   "source": [
    "X_train, y_train, X_test, y_test = X[:-int(X.shape[0]/split)], y[:-int(y.shape[0]/split)], X[-int(X.shape[0]/split):], y[-int(y.shape[0]/split):],"
   ]
  },
  {
   "cell_type": "code",
   "execution_count": null,
   "metadata": {},
   "outputs": [],
   "source": [
    "# Cria uma matriz de pesos da massa de treino\n",
    "weights = []\n",
    "weights = np.zeros(y_train.shape[0])"
   ]
  },
  {
   "cell_type": "code",
   "execution_count": null,
   "metadata": {},
   "outputs": [],
   "source": [
    "for weight in range(weights.shape[0]):\n",
    "    if weight > 500:\n",
    "        weights[weight] = (weight**(weight/weights.shape[0]))/weight"
   ]
  },
  {
   "cell_type": "code",
   "execution_count": null,
   "metadata": {},
   "outputs": [],
   "source": [
    "plt.plot(weights)"
   ]
  },
  {
   "cell_type": "markdown",
   "metadata": {},
   "source": [
    "### Treinar o modelo"
   ]
  },
  {
   "cell_type": "code",
   "execution_count": null,
   "metadata": {
    "scrolled": true
   },
   "outputs": [],
   "source": [
    "model.fit(X_train, y_train, epochs=500, batch_size=500, shuffle=True, sample_weight=weights)"
   ]
  },
  {
   "cell_type": "code",
   "execution_count": null,
   "metadata": {},
   "outputs": [],
   "source": [
    "model.evaluate(X_test, y_test, verbose=1)"
   ]
  },
  {
   "cell_type": "markdown",
   "metadata": {},
   "source": [
    "### Avaliar precisão"
   ]
  },
  {
   "cell_type": "code",
   "execution_count": null,
   "metadata": {},
   "outputs": [],
   "source": [
    "# Cria as colunas com os resultados reais e as apostas\n",
    "def aposta(dr,p):\n",
    "    dr['RC1'] = 'X' if dr['HG'] > dr['AG'] else ''\n",
    "    dr['RCM'] = 'X' if dr['HG'] == dr['AG'] else ''\n",
    "    dr['RC2'] = 'X' if dr['HG'] < dr['AG'] else ''\n",
    "    \n",
    "    \n",
    "#     Criar apostas com jogos simples, duplos e triplos:\n",
    "    c=0\n",
    "    if p[0,0] > p.mean():\n",
    "        dr['AC1'] = 'X' \n",
    "        c += 1\n",
    "    else:\n",
    "        dr['AC1'] = ''\n",
    "    \n",
    "\n",
    "    if p[0,1] > p.mean():\n",
    "        dr['ACM'] = 'X' \n",
    "        c += 1\n",
    "    else:\n",
    "        dr['ACM'] = ''\n",
    "\n",
    "    if p[0,2] > p.mean():\n",
    "        dr['AC2'] = 'X' \n",
    "        c += 1\n",
    "    else:\n",
    "        dr['AC2'] = ''\n",
    "        \n",
    "#         Criar marcador de jogos duplos e triplos\n",
    "    if c==2:\n",
    "        dr['D']='D'\n",
    "    else:\n",
    "        dr['D']=''\n",
    "    if c==3:\n",
    "        dr['T']='T'\n",
    "    else:\n",
    "        dr['T']=''\n",
    "        \n",
    "\n",
    "    return dr\n",
    "    \n",
    "    \n",
    "    "
   ]
  },
  {
   "cell_type": "code",
   "execution_count": null,
   "metadata": {
    "scrolled": true
   },
   "outputs": [],
   "source": [
    "dfx = df_[int(-df_.shape[0]/split):]\n",
    "\n",
    "ds = []\n",
    "\n",
    "X_ = X[-int(X.shape[0]/split):]\n",
    "\n",
    "prec = []\n",
    "\n",
    "i=0\n",
    "for idx, dfr in dfx.iterrows():\n",
    "    \n",
    "    pa = prepare(dfr['Home'], dfr['Away'],idx)\n",
    "\n",
    "    p = model.predict(np.array(pa).reshape(1,len(pa)))\n",
    "    \n",
    "    i += 1\n",
    "    \n",
    "#     Quantificar a previsão e comparar com o real\n",
    "    px = 'H' if p[0,0] > p.mean() else 'A' if p[0,2] > p.mean() else 'D' if p[0,1] > p.mean() else ''\n",
    "    \n",
    "    prec.append(1 if px == dfr['Res'] else 0)\n",
    "    \n",
    "    dfr['S'] = px\n",
    "    \n",
    "#     Cria um dataframe com os resultados para report\n",
    "    ds.append(aposta(dfr,p))\n",
    "    \n",
    "dfs = pd.DataFrame(ds)\n",
    "\n",
    "print(round((abs(np.mean(prec))) * 100,0), '%')\n",
    "    "
   ]
  },
  {
   "cell_type": "code",
   "execution_count": null,
   "metadata": {},
   "outputs": [],
   "source": [
    "dfs[dfs['Concurso']=='Concurso 825 (05/11/2018)']"
   ]
  },
  {
   "cell_type": "code",
   "execution_count": null,
   "metadata": {},
   "outputs": [],
   "source": [
    "dfs[dfs['S']==dfs['Res']].groupby(['Concurso'])['Concurso'].value_counts()"
   ]
  },
  {
   "cell_type": "code",
   "execution_count": null,
   "metadata": {},
   "outputs": [],
   "source": [
    "# Considera os duplos e triplos\n",
    "# RC1\tRCM\tRC2\tAC1\tACM\tAC2\n",
    "dfs[((dfs['RC1']==dfs['AC1'])&(dfs['RC1']=='X')) | ((dfs['RC2']==dfs['AC2'])&(dfs['RC2']=='X')) | ((dfs['RCM']==dfs['ACM'])&(dfs['RCM']=='X'))].groupby(['Concurso'])['Concurso'].value_counts()"
   ]
  },
  {
   "cell_type": "code",
   "execution_count": null,
   "metadata": {},
   "outputs": [],
   "source": [
    "# Preço das apostas\n",
    "2**dfs[dfs['D']=='D'].groupby(['Concurso'])['Concurso'].value_counts()"
   ]
  },
  {
   "cell_type": "markdown",
   "metadata": {},
   "source": [
    "### Lista de times"
   ]
  },
  {
   "cell_type": "code",
   "execution_count": null,
   "metadata": {},
   "outputs": [],
   "source": [
    "vocab"
   ]
  },
  {
   "cell_type": "markdown",
   "metadata": {},
   "source": [
    "### Realizar previsão"
   ]
  },
  {
   "cell_type": "code",
   "execution_count": null,
   "metadata": {},
   "outputs": [],
   "source": [
    "H = 'LIVERPOOL/ING'\n",
    "A = 'TOTTENHAM/ING'\n",
    "\n",
    "prep = [prepare(H,A,1)]\n",
    "    \n",
    "prepx = np.array(prep).reshape(np.array(prep).shape[0],np.array(prep).shape[1])\n",
    "    \n",
    "p = model.predict(prepx)\n",
    "\n",
    "\n",
    "print(p)\n"
   ]
  },
  {
   "cell_type": "code",
   "execution_count": null,
   "metadata": {},
   "outputs": [],
   "source": [
    "p[0,2]"
   ]
  },
  {
   "cell_type": "code",
   "execution_count": null,
   "metadata": {},
   "outputs": [],
   "source": [
    "p.mean()"
   ]
  },
  {
   "cell_type": "code",
   "execution_count": null,
   "metadata": {},
   "outputs": [],
   "source": []
  }
 ],
 "metadata": {
  "kernelspec": {
   "display_name": "Python 3",
   "language": "python",
   "name": "python3"
  },
  "language_info": {
   "codemirror_mode": {
    "name": "ipython",
    "version": 3
   },
   "file_extension": ".py",
   "mimetype": "text/x-python",
   "name": "python",
   "nbconvert_exporter": "python",
   "pygments_lexer": "ipython3",
   "version": "3.6.7"
  }
 },
 "nbformat": 4,
 "nbformat_minor": 2
}
