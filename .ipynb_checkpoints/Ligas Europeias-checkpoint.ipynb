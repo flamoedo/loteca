{
 "cells": [
  {
   "cell_type": "markdown",
   "metadata": {},
   "source": [
    "# Loteca"
   ]
  },
  {
   "cell_type": "code",
   "execution_count": 1,
   "metadata": {},
   "outputs": [],
   "source": [
    "import pandas as pd\n",
    "import numpy as np\n",
    "from sklearn.model_selection import train_test_split\n",
    "import matplotlib.pyplot as plt"
   ]
  },
  {
   "cell_type": "markdown",
   "metadata": {},
   "source": [
    "### Ler arquivo"
   ]
  },
  {
   "cell_type": "code",
   "execution_count": null,
   "metadata": {},
   "outputs": [],
   "source": [
    "columns = [\"Div\",\"Date\",\"HomeTeam\",\"AwayTeam\",\"FTHG\",\"FTAG\",\"FTR\",\"HS\",\"AS\",\"HST\",\"AST\",\"HF\",\"AF\",\"HC\",\"AC\",\"HY\",\"AY\",\"HR\",\"AR\"]"
   ]
  },
  {
   "cell_type": "code",
   "execution_count": null,
   "metadata": {},
   "outputs": [],
   "source": [
    "df1 = pd.read_csv(\"./arquivos/Italy/I1.csv\", parse_dates=[\"Date\"])[columns]\n",
    "for i in range(1,14):\n",
    "    print(i)\n",
    "    df1 = df1.append(pd.read_csv(\"./arquivos/Italy/I1 (\"+str(i)+\").csv\", parse_dates=[\"Date\"])[columns])"
   ]
  },
  {
   "cell_type": "code",
   "execution_count": null,
   "metadata": {},
   "outputs": [],
   "source": [
    "df1 =  df1.sort_values('Date', ascending = False).reset_index(drop=True).dropna()"
   ]
  },
  {
   "cell_type": "code",
   "execution_count": null,
   "metadata": {},
   "outputs": [],
   "source": [
    "df1.to_csv(\"./arquivos/Italy/italy_geral.csv\")"
   ]
  },
  {
   "cell_type": "code",
   "execution_count": null,
   "metadata": {},
   "outputs": [],
   "source": [
    "df1 = pd.read_csv(\"./arquivos/Italy/italy_geral.csv\", parse_dates=[\"Date\"])"
   ]
  },
  {
   "cell_type": "code",
   "execution_count": null,
   "metadata": {},
   "outputs": [],
   "source": [
    "# Div = League Division\n",
    "# Date = Match Date (dd/mm/yy)\n",
    "# HomeTeam = Home Team\n",
    "# AwayTeam = Away Team\n",
    "# FTHG = Full Time Home Team Goals\n",
    "# FTAG = Full Time Away Team Goals\n",
    "# FTR and Res = Full Time Result (H=Home Win, D=Draw, A=Away Win)\n",
    "# HS = Home Team Shots\n",
    "# AS = Away Team Shots\n",
    "# HST = Home Team Shots on Target\n",
    "# AST = Away Team Shots on Target\n",
    "# HC = Home Team Corners\n",
    "# AC = Away Team Corners\n",
    "# HF = Home Team Fouls Committed\n",
    "# AF = Away Team Fouls Committed\n",
    "# HY = Home Team Yellow Cards\n",
    "# AY = Away Team Yellow Cards\n",
    "# HR = Home Team Red Cards\n",
    "# AR = Away Team Red Cards"
   ]
  },
  {
   "cell_type": "code",
   "execution_count": null,
   "metadata": {},
   "outputs": [],
   "source": [
    "# Compute points won for each match\n",
    "\n",
    "# df1 =  df1.sort_values('Date', ascending = False).reset_index(drop=True)\n",
    "\n",
    "for ind, row in df1.iterrows():\n",
    "    df1.at[ind,'ANO_MES'] = str(row['Date'].year) + '/' + str(row['Date'].month)\n",
    "    if row['Date'].month >= 8:\n",
    "        df1.at[ind,'SEASON'] = str(row['Date'].year) + '/' + str(row['Date'].year + 1)\n",
    "    \n",
    "    if row['Date'].month <= 5:\n",
    "        df1.at[ind,'SEASON'] = str(row['Date'].year - 1 ) + '/' + str(row['Date'].year)\n",
    "    \n",
    "    if row['FTR'] == 'H':\n",
    "        df1.at[ind,'HPoints'] = 3\n",
    "        df1.at[ind,'APoints'] = 0\n",
    "    else:\n",
    "        if row['FTR'] == 'A':\n",
    "            df1.at[ind,'HPoints'] = 0\n",
    "            df1.at[ind,'APoints'] = 3            \n",
    "        else:\n",
    "            if row['FTR'] == 'D':\n",
    "                df1.at[ind,'HPoints'] = 1\n",
    "                df1.at[ind,'APoints'] = 1"
   ]
  },
  {
   "cell_type": "code",
   "execution_count": null,
   "metadata": {},
   "outputs": [],
   "source": [
    "# Compute goals sum for the least 10 games\n",
    "\n",
    "# df1 =  df1.sort_values('Date', ascending = False).reset_index(drop=True)\n",
    "\n",
    "for ind in range(len(df1)):\n",
    "    \n",
    "    \n",
    "    HG = df1[ind:][df1['HomeTeam'] == df1.iloc[ind]['HomeTeam']][1:11].sum()[['FTHG', 'FTAG', 'HST', 'HC']]\n",
    "    \n",
    "    df1.at[ind,'HScoredGSum'] = HG['FTHG']\n",
    "    df1.at[ind,'HConseivedGSum'] = HG['FTAG']\n",
    "    df1.at[ind,'SumHST'] = HG['HST']\n",
    "    df1.at[ind,'SumHC'] = HG['HC']\n",
    "    \n",
    "    \n",
    "    \n",
    "    AG = df1[ind:][df1['AwayTeam'] == df1.iloc[ind]['AwayTeam']][1:11].sum()[['FTHG', 'FTAG', 'AST', 'AC']]\n",
    "   \n",
    "    df1.at[ind,'AScoredGSum'] = AG['FTAG']\n",
    "    df1.at[ind,'AConseivedGSum'] = AG['FTHG']\n",
    "    df1.at[ind,'SumAST'] = AG['AST']\n",
    "    df1.at[ind,'SumAC'] = AG['AC']\n",
    "\n",
    "    \n",
    "\n",
    "    "
   ]
  },
  {
   "cell_type": "code",
   "execution_count": null,
   "metadata": {},
   "outputs": [],
   "source": [
    "for ind in range(len(df1)):\n",
    "    \n",
    "    df1.at[ind,'RankH'] = df1[ind:][(df1['HomeTeam'] == df1.iloc[ind]['HomeTeam']) & (df1['SEASON'] == df1.iloc[ind]['SEASON'])][1:].sum()['HPoints'] + \\\n",
    "    df1[ind:][(df1['AwayTeam'] == df1.iloc[ind]['HomeTeam']) & (df1['SEASON'] == df1.iloc[ind]['SEASON'])][:].sum()['APoints']\n",
    "    \n",
    "    \n",
    "    df1.at[ind,'RankA'] = df1[ind:][(df1['AwayTeam'] == df1.iloc[ind]['AwayTeam']) & (df1['SEASON'] == df1.iloc[ind]['SEASON'])][1:].sum()['APoints'] + \\\n",
    "    df1[ind:][(df1['HomeTeam'] == df1.iloc[ind]['AwayTeam']) & (df1['SEASON'] == df1.iloc[ind]['SEASON'])][:].sum()['HPoints']\n",
    "\n"
   ]
  },
  {
   "cell_type": "code",
   "execution_count": null,
   "metadata": {},
   "outputs": [],
   "source": [
    "df1.to_csv(\"./arquivos/Italy/italy_geral_computed_indices.csv\")"
   ]
  },
  {
   "cell_type": "code",
   "execution_count": 41,
   "metadata": {},
   "outputs": [],
   "source": [
    "df1 = pd.read_csv(\"./arquivos/Italy/italy_geral_computed_indices.csv\", parse_dates=[\"Date\"])"
   ]
  },
  {
   "cell_type": "code",
   "execution_count": 69,
   "metadata": {
    "scrolled": false
   },
   "outputs": [
    {
     "data": {
      "text/html": [
       "<div>\n",
       "<style scoped>\n",
       "    .dataframe tbody tr th:only-of-type {\n",
       "        vertical-align: middle;\n",
       "    }\n",
       "\n",
       "    .dataframe tbody tr th {\n",
       "        vertical-align: top;\n",
       "    }\n",
       "\n",
       "    .dataframe thead th {\n",
       "        text-align: right;\n",
       "    }\n",
       "</style>\n",
       "<table border=\"1\" class=\"dataframe\">\n",
       "  <thead>\n",
       "    <tr style=\"text-align: right;\">\n",
       "      <th></th>\n",
       "      <th>Unnamed: 0</th>\n",
       "      <th>Unnamed: 0.1</th>\n",
       "      <th>Div</th>\n",
       "      <th>Date</th>\n",
       "      <th>HomeTeam</th>\n",
       "      <th>AwayTeam</th>\n",
       "      <th>FTHG</th>\n",
       "      <th>FTAG</th>\n",
       "      <th>FTR</th>\n",
       "      <th>HS</th>\n",
       "      <th>...</th>\n",
       "      <th>HScoredGSum</th>\n",
       "      <th>HConseivedGSum</th>\n",
       "      <th>SumHST</th>\n",
       "      <th>SumHC</th>\n",
       "      <th>AScoredGSum</th>\n",
       "      <th>AConseivedGSum</th>\n",
       "      <th>SumAST</th>\n",
       "      <th>SumAC</th>\n",
       "      <th>RankH</th>\n",
       "      <th>RankA</th>\n",
       "    </tr>\n",
       "  </thead>\n",
       "  <tbody>\n",
       "    <tr>\n",
       "      <th>139</th>\n",
       "      <td>168</td>\n",
       "      <td>168.0</td>\n",
       "      <td>I1</td>\n",
       "      <td>2018-05-13</td>\n",
       "      <td>Bologna</td>\n",
       "      <td>Chievo</td>\n",
       "      <td>1.0</td>\n",
       "      <td>2.0</td>\n",
       "      <td>A</td>\n",
       "      <td>7.0</td>\n",
       "      <td>...</td>\n",
       "      <td>14.0</td>\n",
       "      <td>13.0</td>\n",
       "      <td>43.0</td>\n",
       "      <td>38.0</td>\n",
       "      <td>8.0</td>\n",
       "      <td>18.0</td>\n",
       "      <td>31.0</td>\n",
       "      <td>34.0</td>\n",
       "      <td>90.0</td>\n",
       "      <td>10.0</td>\n",
       "    </tr>\n",
       "    <tr>\n",
       "      <th>155</th>\n",
       "      <td>184</td>\n",
       "      <td>184.0</td>\n",
       "      <td>I1</td>\n",
       "      <td>2018-04-29</td>\n",
       "      <td>Verona</td>\n",
       "      <td>Spal</td>\n",
       "      <td>1.0</td>\n",
       "      <td>3.0</td>\n",
       "      <td>A</td>\n",
       "      <td>11.0</td>\n",
       "      <td>...</td>\n",
       "      <td>10.0</td>\n",
       "      <td>19.0</td>\n",
       "      <td>24.0</td>\n",
       "      <td>51.0</td>\n",
       "      <td>7.0</td>\n",
       "      <td>16.0</td>\n",
       "      <td>31.0</td>\n",
       "      <td>43.0</td>\n",
       "      <td>86.0</td>\n",
       "      <td>33.0</td>\n",
       "    </tr>\n",
       "    <tr>\n",
       "      <th>174</th>\n",
       "      <td>203</td>\n",
       "      <td>203.0</td>\n",
       "      <td>I1</td>\n",
       "      <td>2018-04-18</td>\n",
       "      <td>Roma</td>\n",
       "      <td>Genoa</td>\n",
       "      <td>2.0</td>\n",
       "      <td>1.0</td>\n",
       "      <td>H</td>\n",
       "      <td>15.0</td>\n",
       "      <td>...</td>\n",
       "      <td>11.0</td>\n",
       "      <td>9.0</td>\n",
       "      <td>51.0</td>\n",
       "      <td>68.0</td>\n",
       "      <td>5.0</td>\n",
       "      <td>17.0</td>\n",
       "      <td>32.0</td>\n",
       "      <td>49.0</td>\n",
       "      <td>83.0</td>\n",
       "      <td>44.0</td>\n",
       "    </tr>\n",
       "    <tr>\n",
       "      <th>186</th>\n",
       "      <td>215</td>\n",
       "      <td>215.0</td>\n",
       "      <td>I1</td>\n",
       "      <td>2018-04-15</td>\n",
       "      <td>Sassuolo</td>\n",
       "      <td>Benevento</td>\n",
       "      <td>2.0</td>\n",
       "      <td>2.0</td>\n",
       "      <td>D</td>\n",
       "      <td>15.0</td>\n",
       "      <td>...</td>\n",
       "      <td>9.0</td>\n",
       "      <td>17.0</td>\n",
       "      <td>43.0</td>\n",
       "      <td>58.0</td>\n",
       "      <td>3.0</td>\n",
       "      <td>23.0</td>\n",
       "      <td>22.0</td>\n",
       "      <td>38.0</td>\n",
       "      <td>80.0</td>\n",
       "      <td>27.0</td>\n",
       "    </tr>\n",
       "    <tr>\n",
       "      <th>144</th>\n",
       "      <td>173</td>\n",
       "      <td>173.0</td>\n",
       "      <td>I1</td>\n",
       "      <td>2018-05-13</td>\n",
       "      <td>Torino</td>\n",
       "      <td>Spal</td>\n",
       "      <td>2.0</td>\n",
       "      <td>1.0</td>\n",
       "      <td>H</td>\n",
       "      <td>18.0</td>\n",
       "      <td>...</td>\n",
       "      <td>15.0</td>\n",
       "      <td>9.0</td>\n",
       "      <td>56.0</td>\n",
       "      <td>46.0</td>\n",
       "      <td>10.0</td>\n",
       "      <td>15.0</td>\n",
       "      <td>35.0</td>\n",
       "      <td>48.0</td>\n",
       "      <td>79.0</td>\n",
       "      <td>63.0</td>\n",
       "    </tr>\n",
       "    <tr>\n",
       "      <th>489</th>\n",
       "      <td>518</td>\n",
       "      <td>518.0</td>\n",
       "      <td>I1</td>\n",
       "      <td>2017-08-04</td>\n",
       "      <td>Atalanta</td>\n",
       "      <td>Sassuolo</td>\n",
       "      <td>1.0</td>\n",
       "      <td>1.0</td>\n",
       "      <td>D</td>\n",
       "      <td>18.0</td>\n",
       "      <td>...</td>\n",
       "      <td>15.0</td>\n",
       "      <td>6.0</td>\n",
       "      <td>51.0</td>\n",
       "      <td>60.0</td>\n",
       "      <td>16.0</td>\n",
       "      <td>21.0</td>\n",
       "      <td>43.0</td>\n",
       "      <td>67.0</td>\n",
       "      <td>78.0</td>\n",
       "      <td>39.0</td>\n",
       "    </tr>\n",
       "    <tr>\n",
       "      <th>485</th>\n",
       "      <td>514</td>\n",
       "      <td>514.0</td>\n",
       "      <td>I1</td>\n",
       "      <td>2017-08-20</td>\n",
       "      <td>Bologna</td>\n",
       "      <td>Torino</td>\n",
       "      <td>1.0</td>\n",
       "      <td>1.0</td>\n",
       "      <td>D</td>\n",
       "      <td>13.0</td>\n",
       "      <td>...</td>\n",
       "      <td>16.0</td>\n",
       "      <td>19.0</td>\n",
       "      <td>44.0</td>\n",
       "      <td>47.0</td>\n",
       "      <td>11.0</td>\n",
       "      <td>17.0</td>\n",
       "      <td>29.0</td>\n",
       "      <td>52.0</td>\n",
       "      <td>76.0</td>\n",
       "      <td>53.0</td>\n",
       "    </tr>\n",
       "    <tr>\n",
       "      <th>200</th>\n",
       "      <td>229</td>\n",
       "      <td>229.0</td>\n",
       "      <td>I1</td>\n",
       "      <td>2018-04-04</td>\n",
       "      <td>Torino</td>\n",
       "      <td>Crotone</td>\n",
       "      <td>4.0</td>\n",
       "      <td>1.0</td>\n",
       "      <td>H</td>\n",
       "      <td>9.0</td>\n",
       "      <td>...</td>\n",
       "      <td>16.0</td>\n",
       "      <td>12.0</td>\n",
       "      <td>56.0</td>\n",
       "      <td>55.0</td>\n",
       "      <td>7.0</td>\n",
       "      <td>24.0</td>\n",
       "      <td>23.0</td>\n",
       "      <td>24.0</td>\n",
       "      <td>76.0</td>\n",
       "      <td>38.0</td>\n",
       "    </tr>\n",
       "    <tr>\n",
       "      <th>479</th>\n",
       "      <td>508</td>\n",
       "      <td>508.0</td>\n",
       "      <td>I1</td>\n",
       "      <td>2017-08-20</td>\n",
       "      <td>Udinese</td>\n",
       "      <td>Chievo</td>\n",
       "      <td>1.0</td>\n",
       "      <td>2.0</td>\n",
       "      <td>A</td>\n",
       "      <td>18.0</td>\n",
       "      <td>...</td>\n",
       "      <td>15.0</td>\n",
       "      <td>11.0</td>\n",
       "      <td>54.0</td>\n",
       "      <td>45.0</td>\n",
       "      <td>7.0</td>\n",
       "      <td>24.0</td>\n",
       "      <td>28.0</td>\n",
       "      <td>33.0</td>\n",
       "      <td>74.0</td>\n",
       "      <td>55.0</td>\n",
       "    </tr>\n",
       "    <tr>\n",
       "      <th>490</th>\n",
       "      <td>519</td>\n",
       "      <td>519.0</td>\n",
       "      <td>I1</td>\n",
       "      <td>2017-08-04</td>\n",
       "      <td>Empoli</td>\n",
       "      <td>Pescara</td>\n",
       "      <td>1.0</td>\n",
       "      <td>1.0</td>\n",
       "      <td>D</td>\n",
       "      <td>14.0</td>\n",
       "      <td>...</td>\n",
       "      <td>12.0</td>\n",
       "      <td>13.0</td>\n",
       "      <td>35.0</td>\n",
       "      <td>47.0</td>\n",
       "      <td>8.0</td>\n",
       "      <td>24.0</td>\n",
       "      <td>41.0</td>\n",
       "      <td>53.0</td>\n",
       "      <td>74.0</td>\n",
       "      <td>42.0</td>\n",
       "    </tr>\n",
       "  </tbody>\n",
       "</table>\n",
       "<p>10 rows × 35 columns</p>\n",
       "</div>"
      ],
      "text/plain": [
       "     Unnamed: 0  Unnamed: 0.1 Div       Date  HomeTeam   AwayTeam  FTHG  FTAG  \\\n",
       "139         168         168.0  I1 2018-05-13   Bologna     Chievo   1.0   2.0   \n",
       "155         184         184.0  I1 2018-04-29    Verona       Spal   1.0   3.0   \n",
       "174         203         203.0  I1 2018-04-18      Roma      Genoa   2.0   1.0   \n",
       "186         215         215.0  I1 2018-04-15  Sassuolo  Benevento   2.0   2.0   \n",
       "144         173         173.0  I1 2018-05-13    Torino       Spal   2.0   1.0   \n",
       "489         518         518.0  I1 2017-08-04  Atalanta   Sassuolo   1.0   1.0   \n",
       "485         514         514.0  I1 2017-08-20   Bologna     Torino   1.0   1.0   \n",
       "200         229         229.0  I1 2018-04-04    Torino    Crotone   4.0   1.0   \n",
       "479         508         508.0  I1 2017-08-20   Udinese     Chievo   1.0   2.0   \n",
       "490         519         519.0  I1 2017-08-04    Empoli    Pescara   1.0   1.0   \n",
       "\n",
       "    FTR    HS  ...    HScoredGSum  HConseivedGSum  SumHST  SumHC  AScoredGSum  \\\n",
       "139   A   7.0  ...           14.0            13.0    43.0   38.0          8.0   \n",
       "155   A  11.0  ...           10.0            19.0    24.0   51.0          7.0   \n",
       "174   H  15.0  ...           11.0             9.0    51.0   68.0          5.0   \n",
       "186   D  15.0  ...            9.0            17.0    43.0   58.0          3.0   \n",
       "144   H  18.0  ...           15.0             9.0    56.0   46.0         10.0   \n",
       "489   D  18.0  ...           15.0             6.0    51.0   60.0         16.0   \n",
       "485   D  13.0  ...           16.0            19.0    44.0   47.0         11.0   \n",
       "200   H   9.0  ...           16.0            12.0    56.0   55.0          7.0   \n",
       "479   A  18.0  ...           15.0            11.0    54.0   45.0          7.0   \n",
       "490   D  14.0  ...           12.0            13.0    35.0   47.0          8.0   \n",
       "\n",
       "     AConseivedGSum  SumAST  SumAC  RankH  RankA  \n",
       "139            18.0    31.0   34.0   90.0   10.0  \n",
       "155            16.0    31.0   43.0   86.0   33.0  \n",
       "174            17.0    32.0   49.0   83.0   44.0  \n",
       "186            23.0    22.0   38.0   80.0   27.0  \n",
       "144            15.0    35.0   48.0   79.0   63.0  \n",
       "489            21.0    43.0   67.0   78.0   39.0  \n",
       "485            17.0    29.0   52.0   76.0   53.0  \n",
       "200            24.0    23.0   24.0   76.0   38.0  \n",
       "479            24.0    28.0   33.0   74.0   55.0  \n",
       "490            24.0    41.0   53.0   74.0   42.0  \n",
       "\n",
       "[10 rows x 35 columns]"
      ]
     },
     "execution_count": 69,
     "metadata": {},
     "output_type": "execute_result"
    }
   ],
   "source": [
    "df1[df1['SEASON'] == '2017/2018'].sort_values('RankH',  ascending = False).head(10)"
   ]
  },
  {
   "cell_type": "markdown",
   "metadata": {},
   "source": [
    "### Seleção de colunas"
   ]
  },
  {
   "cell_type": "code",
   "execution_count": 43,
   "metadata": {},
   "outputs": [],
   "source": [
    "# columns_x = [\"AVG_FTHG\",\"AVG_HS\",\"AVG_HST\",\"AVG_HF\",\"AVG_HC\",\"AVG_HY\",\"AVG_HR\",\"AVG_FTAG\",\"AVG_AS\",\"AVG_AST\",\"AVG_AF\",\"AVG_AC\",\"AVG_AY\",\"AVG_AR\"]\n",
    "columns_x = ['HScoredGSum', 'SumHST', 'SumHC', 'RankH','AScoredGSum', 'SumAST', 'SumAC', 'RankA']\n",
    "\n",
    "df1 = df1.dropna()\n",
    "\n",
    "# X = df_medias[columns_x]\n",
    "X = df1[columns_x]\n",
    "y = df1['FTR']"
   ]
  },
  {
   "cell_type": "markdown",
   "metadata": {},
   "source": [
    "### Suport vector machine"
   ]
  },
  {
   "cell_type": "code",
   "execution_count": 44,
   "metadata": {},
   "outputs": [],
   "source": [
    "from sklearn.multioutput import MultiOutputClassifier\n",
    "from sklearn.ensemble import RandomForestClassifier\n",
    "from sklearn.ensemble import RandomForestRegressor\n",
    "from sklearn.svm import SVC\n",
    "from sklearn.linear_model import LogisticRegression"
   ]
  },
  {
   "cell_type": "code",
   "execution_count": 45,
   "metadata": {},
   "outputs": [],
   "source": [
    "FTR = len(df1)/(df1.groupby('FTR').count()['Div'])\n",
    "\n",
    "# FTR = FTR/FTR.max()\n",
    "\n",
    "weight = {frk: FTR[frk] for frk in FTR.keys()}"
   ]
  },
  {
   "cell_type": "code",
   "execution_count": 58,
   "metadata": {},
   "outputs": [],
   "source": [
    "# model = MultiOutputClassifier(RandomForestClassifier())\n",
    "model = LogisticRegression()\n"
   ]
  },
  {
   "cell_type": "markdown",
   "metadata": {},
   "source": [
    "### Separar os datasets de treinamento e teste"
   ]
  },
  {
   "cell_type": "code",
   "execution_count": 47,
   "metadata": {},
   "outputs": [],
   "source": [
    "split = 40\n",
    "X_train, y_train, X_test, y_test = X[:-int(np.array(X).shape[0]/split)], y[:-int(np.array(y).shape[0]/split)], X[-int(np.array(X).shape[0]/split):], y[-int(np.array(y).shape[0]/split):]\n"
   ]
  },
  {
   "cell_type": "code",
   "execution_count": 48,
   "metadata": {},
   "outputs": [],
   "source": [
    "# Standardising the data.\n",
    "from sklearn.preprocessing import scale\n",
    "from sklearn.preprocessing import normalize\n",
    "\n",
    "X_train = normalize(X_train)\n",
    "X_test = normalize(X_test)"
   ]
  },
  {
   "cell_type": "code",
   "execution_count": 59,
   "metadata": {},
   "outputs": [
    {
     "name": "stderr",
     "output_type": "stream",
     "text": [
      "C:\\ProgramData\\Miniconda3\\envs\\loteca\\lib\\site-packages\\sklearn\\linear_model\\logistic.py:432: FutureWarning: Default solver will be changed to 'lbfgs' in 0.22. Specify a solver to silence this warning.\n",
      "  FutureWarning)\n",
      "C:\\ProgramData\\Miniconda3\\envs\\loteca\\lib\\site-packages\\sklearn\\linear_model\\logistic.py:459: FutureWarning: Default multi_class will be changed to 'auto' in 0.22. Specify the multi_class option to silence this warning.\n",
      "  \"this warning.\", FutureWarning)\n"
     ]
    },
    {
     "data": {
      "text/plain": [
       "LogisticRegression(C=1.0, class_weight=None, dual=False, fit_intercept=True,\n",
       "          intercept_scaling=1, max_iter=100, multi_class='warn',\n",
       "          n_jobs=None, penalty='l2', random_state=None, solver='warn',\n",
       "          tol=0.0001, verbose=0, warm_start=False)"
      ]
     },
     "execution_count": 59,
     "metadata": {},
     "output_type": "execute_result"
    }
   ],
   "source": [
    "model.fit(X_train, y_train)"
   ]
  },
  {
   "cell_type": "markdown",
   "metadata": {},
   "source": [
    "### Avaliar precisão"
   ]
  },
  {
   "cell_type": "code",
   "execution_count": 60,
   "metadata": {},
   "outputs": [],
   "source": [
    "y_pred = model.predict(X_test)"
   ]
  },
  {
   "cell_type": "code",
   "execution_count": 61,
   "metadata": {},
   "outputs": [],
   "source": [
    "r = []\n",
    "for i in range(len(y_pred)):   \n",
    "    if y_pred[i] == y_test.iloc[i]:        \n",
    "        r.append(1)\n",
    "    else:\n",
    "        r.append(0)   \n",
    "    "
   ]
  },
  {
   "cell_type": "code",
   "execution_count": 62,
   "metadata": {},
   "outputs": [
    {
     "data": {
      "text/plain": [
       "0.41284403669724773"
      ]
     },
     "execution_count": 62,
     "metadata": {},
     "output_type": "execute_result"
    }
   ],
   "source": [
    "np.array(r).mean()"
   ]
  },
  {
   "cell_type": "code",
   "execution_count": 63,
   "metadata": {
    "scrolled": true
   },
   "outputs": [
    {
     "data": {
      "text/plain": [
       "array(['A', 'H', 'H', 'H', 'H', 'H', 'H', 'A', 'H', 'H', 'H', 'H', 'A',\n",
       "       'H', 'H', 'H', 'A', 'H', 'H', 'H', 'A', 'H', 'H', 'H', 'H', 'A',\n",
       "       'A', 'H', 'A', 'A', 'H', 'A', 'H', 'H', 'A', 'H', 'A', 'A', 'H',\n",
       "       'A', 'H', 'H', 'H', 'H', 'H', 'A', 'A', 'H', 'H', 'H', 'A', 'H',\n",
       "       'A', 'H', 'H', 'A', 'A', 'H', 'H', 'A', 'H', 'H', 'H', 'A', 'H',\n",
       "       'H', 'H', 'A', 'H', 'H', 'A', 'H', 'A', 'H', 'A', 'H', 'H', 'H',\n",
       "       'H', 'H', 'H', 'H', 'H', 'H', 'H', 'H', 'H', 'H', 'A', 'H', 'H',\n",
       "       'H', 'H', 'H', 'H', 'H', 'H', 'H', 'H', 'H', 'H', 'A', 'H', 'H',\n",
       "       'A', 'H', 'H', 'H', 'H'], dtype=object)"
      ]
     },
     "execution_count": 63,
     "metadata": {},
     "output_type": "execute_result"
    }
   ],
   "source": [
    "y_pred"
   ]
  },
  {
   "cell_type": "markdown",
   "metadata": {},
   "source": [
    "### Salvar o modelo"
   ]
  },
  {
   "cell_type": "code",
   "execution_count": null,
   "metadata": {},
   "outputs": [],
   "source": [
    "from sklearn.externals import joblib"
   ]
  },
  {
   "cell_type": "code",
   "execution_count": null,
   "metadata": {},
   "outputs": [],
   "source": [
    "joblib.dump(model, 'model.italy')"
   ]
  },
  {
   "cell_type": "code",
   "execution_count": null,
   "metadata": {},
   "outputs": [],
   "source": [
    "model = joblib.load('model.italy') "
   ]
  },
  {
   "cell_type": "markdown",
   "metadata": {},
   "source": [
    "### Lista de times"
   ]
  },
  {
   "cell_type": "code",
   "execution_count": null,
   "metadata": {},
   "outputs": [],
   "source": [
    "vocab = np.unique(np.concatenate((np.array(df1['HomeTeam'].unique()), np.array(df1['AwayTeam'].unique()))))"
   ]
  },
  {
   "cell_type": "code",
   "execution_count": null,
   "metadata": {},
   "outputs": [],
   "source": [
    "vocab"
   ]
  },
  {
   "cell_type": "code",
   "execution_count": null,
   "metadata": {},
   "outputs": [],
   "source": [
    "# columns_x = ['HPoints','APoints','HScoredGSum','HConseivedGSum','AScoredGSum','AConseivedGSum']\n",
    "\n",
    "def prepare(H,A):\n",
    "    ret = []\n",
    "    retH = df1[df1['HomeTeam'] == H].iloc[0][['HPoints','HScoredGSum','HConseivedGSum']]\n",
    "    retA = df1[df1['AwayTeam'] == A].iloc[0][['APoints','AScoredGSum','AConseivedGSum']]\n",
    "    return [retH['HPoints'], retA['APoints'], retH[['HScoredGSum','HConseivedGSum']], retA[['AScoredGSum','AConseivedGSum']]]   \n",
    "    \n",
    "    "
   ]
  },
  {
   "cell_type": "code",
   "execution_count": null,
   "metadata": {},
   "outputs": [],
   "source": [
    "prepare('Ascoli', 'Atalanta')"
   ]
  },
  {
   "cell_type": "markdown",
   "metadata": {},
   "source": [
    "### Realizar previsão"
   ]
  },
  {
   "cell_type": "code",
   "execution_count": null,
   "metadata": {},
   "outputs": [],
   "source": [
    "H = 'Ceara'\n",
    "A = 'Atletico-MG'\n",
    "\n",
    "p = model.predict([prepare(H,A)])\n",
    "\n",
    "if p < 0:\n",
    "    print(H, 'Vence com ', round(abs(p[0]),3),' gol de diferença')\n",
    "else:\n",
    "    print(A, 'Vence com', round(abs(p[0]),3),' gol de diferença')"
   ]
  },
  {
   "cell_type": "code",
   "execution_count": null,
   "metadata": {},
   "outputs": [],
   "source": []
  }
 ],
 "metadata": {
  "kernelspec": {
   "display_name": "Python 3",
   "language": "python",
   "name": "python3"
  },
  "language_info": {
   "codemirror_mode": {
    "name": "ipython",
    "version": 3
   },
   "file_extension": ".py",
   "mimetype": "text/x-python",
   "name": "python",
   "nbconvert_exporter": "python",
   "pygments_lexer": "ipython3",
   "version": "3.6.6"
  }
 },
 "nbformat": 4,
 "nbformat_minor": 2
}
