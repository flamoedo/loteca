{
 "cells": [
  {
   "cell_type": "markdown",
   "metadata": {},
   "source": [
    "# Loteca"
   ]
  },
  {
   "cell_type": "code",
   "execution_count": 1,
   "metadata": {},
   "outputs": [],
   "source": [
    "import pandas as pd\n",
    "import numpy as np\n",
    "from sklearn.model_selection import train_test_split\n",
    "import matplotlib.pyplot as plt"
   ]
  },
  {
   "cell_type": "markdown",
   "metadata": {},
   "source": [
    "### Ler arquivo"
   ]
  },
  {
   "cell_type": "code",
   "execution_count": 2,
   "metadata": {},
   "outputs": [],
   "source": [
    "columns = [\"Div\",\"Date\",\"HomeTeam\",\"AwayTeam\",\"FTHG\",\"FTAG\",\"FTR\",\"HS\",\"AS\",\"HST\",\"AST\",\"HF\",\"AF\",\"HC\",\"AC\",\"HY\",\"AY\",\"HR\",\"AR\"]"
   ]
  },
  {
   "cell_type": "code",
   "execution_count": 11,
   "metadata": {},
   "outputs": [
    {
     "name": "stdout",
     "output_type": "stream",
     "text": [
      "1\n",
      "2\n",
      "3\n",
      "4\n",
      "5\n",
      "6\n",
      "7\n",
      "8\n",
      "9\n",
      "10\n",
      "11\n",
      "12\n",
      "13\n"
     ]
    }
   ],
   "source": [
    "df1 = pd.read_csv(\"./arquivos/Italy/I1.csv\", parse_dates=[\"Date\"])[columns]\n",
    "for i in range(1,14):\n",
    "    print(i)\n",
    "    df1 = df1.append(pd.read_csv(\"./arquivos/Italy/I1 (\"+str(i)+\").csv\", parse_dates=[\"Date\"])[columns])"
   ]
  },
  {
   "cell_type": "code",
   "execution_count": 15,
   "metadata": {},
   "outputs": [],
   "source": [
    "df1 = df1.sort_values(\"Date\").dropna()"
   ]
  },
  {
   "cell_type": "code",
   "execution_count": 16,
   "metadata": {},
   "outputs": [],
   "source": [
    "df1.to_csv(\"./arquivos/Italy/italy_geral.csv\")"
   ]
  },
  {
   "cell_type": "code",
   "execution_count": 17,
   "metadata": {},
   "outputs": [
    {
     "data": {
      "text/html": [
       "<div>\n",
       "<style scoped>\n",
       "    .dataframe tbody tr th:only-of-type {\n",
       "        vertical-align: middle;\n",
       "    }\n",
       "\n",
       "    .dataframe tbody tr th {\n",
       "        vertical-align: top;\n",
       "    }\n",
       "\n",
       "    .dataframe thead th {\n",
       "        text-align: right;\n",
       "    }\n",
       "</style>\n",
       "<table border=\"1\" class=\"dataframe\">\n",
       "  <thead>\n",
       "    <tr style=\"text-align: right;\">\n",
       "      <th></th>\n",
       "      <th>Div</th>\n",
       "      <th>Date</th>\n",
       "      <th>HomeTeam</th>\n",
       "      <th>AwayTeam</th>\n",
       "      <th>FTHG</th>\n",
       "      <th>FTAG</th>\n",
       "      <th>FTR</th>\n",
       "      <th>HS</th>\n",
       "      <th>AS</th>\n",
       "      <th>HST</th>\n",
       "      <th>AST</th>\n",
       "      <th>HF</th>\n",
       "      <th>AF</th>\n",
       "      <th>HC</th>\n",
       "      <th>AC</th>\n",
       "      <th>HY</th>\n",
       "      <th>AY</th>\n",
       "      <th>HR</th>\n",
       "      <th>AR</th>\n",
       "    </tr>\n",
       "  </thead>\n",
       "  <tbody>\n",
       "    <tr>\n",
       "      <th>50</th>\n",
       "      <td>I1</td>\n",
       "      <td>2005-01-10</td>\n",
       "      <td>Chievo</td>\n",
       "      <td>Treviso</td>\n",
       "      <td>0.0</td>\n",
       "      <td>0.0</td>\n",
       "      <td>D</td>\n",
       "      <td>11.0</td>\n",
       "      <td>7.0</td>\n",
       "      <td>0.0</td>\n",
       "      <td>3.0</td>\n",
       "      <td>24.0</td>\n",
       "      <td>22.0</td>\n",
       "      <td>6.0</td>\n",
       "      <td>4.0</td>\n",
       "      <td>3.0</td>\n",
       "      <td>2.0</td>\n",
       "      <td>0.0</td>\n",
       "      <td>0.0</td>\n",
       "    </tr>\n",
       "    <tr>\n",
       "      <th>51</th>\n",
       "      <td>I1</td>\n",
       "      <td>2005-01-10</td>\n",
       "      <td>Udinese</td>\n",
       "      <td>Lazio</td>\n",
       "      <td>3.0</td>\n",
       "      <td>0.0</td>\n",
       "      <td>H</td>\n",
       "      <td>19.0</td>\n",
       "      <td>6.0</td>\n",
       "      <td>10.0</td>\n",
       "      <td>1.0</td>\n",
       "      <td>18.0</td>\n",
       "      <td>25.0</td>\n",
       "      <td>10.0</td>\n",
       "      <td>1.0</td>\n",
       "      <td>2.0</td>\n",
       "      <td>3.0</td>\n",
       "      <td>0.0</td>\n",
       "      <td>0.0</td>\n",
       "    </tr>\n",
       "    <tr>\n",
       "      <th>52</th>\n",
       "      <td>I1</td>\n",
       "      <td>2005-02-10</td>\n",
       "      <td>Ascoli</td>\n",
       "      <td>Parma</td>\n",
       "      <td>3.0</td>\n",
       "      <td>1.0</td>\n",
       "      <td>H</td>\n",
       "      <td>10.0</td>\n",
       "      <td>10.0</td>\n",
       "      <td>6.0</td>\n",
       "      <td>4.0</td>\n",
       "      <td>23.0</td>\n",
       "      <td>22.0</td>\n",
       "      <td>5.0</td>\n",
       "      <td>5.0</td>\n",
       "      <td>3.0</td>\n",
       "      <td>5.0</td>\n",
       "      <td>0.0</td>\n",
       "      <td>1.0</td>\n",
       "    </tr>\n",
       "    <tr>\n",
       "      <th>53</th>\n",
       "      <td>I1</td>\n",
       "      <td>2005-02-10</td>\n",
       "      <td>Fiorentina</td>\n",
       "      <td>Livorno</td>\n",
       "      <td>3.0</td>\n",
       "      <td>2.0</td>\n",
       "      <td>H</td>\n",
       "      <td>11.0</td>\n",
       "      <td>9.0</td>\n",
       "      <td>5.0</td>\n",
       "      <td>5.0</td>\n",
       "      <td>19.0</td>\n",
       "      <td>21.0</td>\n",
       "      <td>2.0</td>\n",
       "      <td>7.0</td>\n",
       "      <td>2.0</td>\n",
       "      <td>2.0</td>\n",
       "      <td>0.0</td>\n",
       "      <td>1.0</td>\n",
       "    </tr>\n",
       "    <tr>\n",
       "      <th>54</th>\n",
       "      <td>I1</td>\n",
       "      <td>2005-02-10</td>\n",
       "      <td>Juventus</td>\n",
       "      <td>Inter</td>\n",
       "      <td>2.0</td>\n",
       "      <td>0.0</td>\n",
       "      <td>H</td>\n",
       "      <td>8.0</td>\n",
       "      <td>11.0</td>\n",
       "      <td>5.0</td>\n",
       "      <td>6.0</td>\n",
       "      <td>29.0</td>\n",
       "      <td>22.0</td>\n",
       "      <td>1.0</td>\n",
       "      <td>9.0</td>\n",
       "      <td>2.0</td>\n",
       "      <td>3.0</td>\n",
       "      <td>0.0</td>\n",
       "      <td>0.0</td>\n",
       "    </tr>\n",
       "  </tbody>\n",
       "</table>\n",
       "</div>"
      ],
      "text/plain": [
       "   Div       Date    HomeTeam AwayTeam  FTHG  FTAG FTR    HS    AS   HST  AST  \\\n",
       "50  I1 2005-01-10      Chievo  Treviso   0.0   0.0   D  11.0   7.0   0.0  3.0   \n",
       "51  I1 2005-01-10     Udinese    Lazio   3.0   0.0   H  19.0   6.0  10.0  1.0   \n",
       "52  I1 2005-02-10      Ascoli    Parma   3.0   1.0   H  10.0  10.0   6.0  4.0   \n",
       "53  I1 2005-02-10  Fiorentina  Livorno   3.0   2.0   H  11.0   9.0   5.0  5.0   \n",
       "54  I1 2005-02-10    Juventus    Inter   2.0   0.0   H   8.0  11.0   5.0  6.0   \n",
       "\n",
       "      HF    AF    HC   AC   HY   AY   HR   AR  \n",
       "50  24.0  22.0   6.0  4.0  3.0  2.0  0.0  0.0  \n",
       "51  18.0  25.0  10.0  1.0  2.0  3.0  0.0  0.0  \n",
       "52  23.0  22.0   5.0  5.0  3.0  5.0  0.0  1.0  \n",
       "53  19.0  21.0   2.0  7.0  2.0  2.0  0.0  1.0  \n",
       "54  29.0  22.0   1.0  9.0  2.0  3.0  0.0  0.0  "
      ]
     },
     "execution_count": 17,
     "metadata": {},
     "output_type": "execute_result"
    }
   ],
   "source": [
    "df1.head()"
   ]
  },
  {
   "cell_type": "code",
   "execution_count": null,
   "metadata": {},
   "outputs": [],
   "source": [
    "# Div = League Division\n",
    "# Date = Match Date (dd/mm/yy)\n",
    "# HomeTeam = Home Team\n",
    "# AwayTeam = Away Team\n",
    "# FTHG = Full Time Home Team Goals\n",
    "# FTAG = Full Time Away Team Goals\n",
    "# FTR and Res = Full Time Result (H=Home Win, D=Draw, A=Away Win)\n",
    "# HS = Home Team Shots\n",
    "# AS = Away Team Shots\n",
    "# HST = Home Team Shots on Target\n",
    "# AST = Away Team Shots on Target\n",
    "# HC = Home Team Corners\n",
    "# AC = Away Team Corners\n",
    "# HF = Home Team Fouls Committed\n",
    "# AF = Away Team Fouls Committed\n",
    "# HY = Home Team Yellow Cards\n",
    "# AY = Away Team Yellow Cards\n",
    "# HR = Home Team Red Cards\n",
    "# AR = Away Team Red Cards"
   ]
  },
  {
   "cell_type": "markdown",
   "metadata": {},
   "source": [
    "### Média dos últimos jogos"
   ]
  },
  {
   "cell_type": "code",
   "execution_count": 36,
   "metadata": {},
   "outputs": [],
   "source": [
    "df1 = df1.sort_values(\"Date\", ascending=False).reset_index()"
   ]
  },
  {
   "cell_type": "code",
   "execution_count": 64,
   "metadata": {},
   "outputs": [],
   "source": [
    "base = []\n",
    "def media_jogos_home():    \n",
    "    geral_columns = [\"Div\",\"Date\",\"HomeTeam\",\"AwayTeam\"]\n",
    "    home_columns = [\"FTHG\",\"HS\",\"HST\",\"HF\",\"HC\",\"HY\",\"HR\"]\n",
    "    away_columns = [\"FTAG\",\"AS\",\"AST\",\"AF\",\"AC\",\"AY\",\"AR\"]\n",
    "    for ind, reg in df1.iterrows():\n",
    "        medias = []\n",
    "        \n",
    "        for c in geral_columns:\n",
    "            medias.append(reg[c])\n",
    "            \n",
    "        \n",
    "        H = df1[ind:][df1[\"HomeTeam\"]==reg[\"HomeTeam\"]][home_columns].head(10).mean()\n",
    "        \n",
    "        for i in H:\n",
    "            medias.append(i)\n",
    "        \n",
    "        \n",
    "        A = df1[ind:][df1[\"AwayTeam\"]==reg[\"AwayTeam\"]][away_columns].head(10).mean()\n",
    "        \n",
    "        for j in A:\n",
    "            medias.append(j)\n",
    "            \n",
    "        base.append(medias)\n",
    "            \n",
    "        "
   ]
  },
  {
   "cell_type": "code",
   "execution_count": 65,
   "metadata": {},
   "outputs": [
    {
     "name": "stderr",
     "output_type": "stream",
     "text": [
      "C:\\ProgramData\\Miniconda3\\envs\\loteca\\lib\\site-packages\\ipykernel_launcher.py:13: UserWarning: Boolean Series key will be reindexed to match DataFrame index.\n",
      "  del sys.path[0]\n",
      "C:\\ProgramData\\Miniconda3\\envs\\loteca\\lib\\site-packages\\ipykernel_launcher.py:19: UserWarning: Boolean Series key will be reindexed to match DataFrame index.\n"
     ]
    }
   ],
   "source": [
    "Criar medias\n",
    "media_jogos_home()"
   ]
  },
  {
   "cell_type": "code",
   "execution_count": 82,
   "metadata": {},
   "outputs": [],
   "source": [
    "df_medias = pd.DataFrame(np.array(base), columns=[\"Div\",\"Date\",\"HomeTeam\",\"AwayTeam\",\"AVG_FTHG\",\"AVG_HS\",\"AVG_HST\",\"AVG_HF\",\"AVG_HC\",\"AVG_HY\",\"AVG_HR\",\"AVG_FTAG\",\"AVG_AS\",\"AVG_AST\",\"AVG_AF\",\"AVG_AC\",\"AVG_AY\",\"AVG_AR\"])"
   ]
  },
  {
   "cell_type": "code",
   "execution_count": 84,
   "metadata": {},
   "outputs": [],
   "source": [
    "df_medias.to_csv(\"./arquivos/Italy/italy_geral_medias.csv\")"
   ]
  },
  {
   "cell_type": "markdown",
   "metadata": {},
   "source": [
    "### Nomes dos times"
   ]
  },
  {
   "cell_type": "code",
   "execution_count": 23,
   "metadata": {},
   "outputs": [
    {
     "data": {
      "text/plain": [
       "FTHG     2.0\n",
       "FTAG     1.0\n",
       "HS      15.1\n",
       "AS       9.2\n",
       "HST      5.4\n",
       "AST      3.5\n",
       "HF      12.8\n",
       "AF      12.5\n",
       "HC       5.4\n",
       "AC       5.2\n",
       "HY       2.2\n",
       "AY       3.0\n",
       "HR       0.2\n",
       "AR       0.2\n",
       "dtype: float64"
      ]
     },
     "execution_count": 23,
     "metadata": {},
     "output_type": "execute_result"
    }
   ],
   "source": [
    "df1[df1[\"HomeTeam\"]==\"Fiorentina\"].head(10).mean()"
   ]
  },
  {
   "cell_type": "code",
   "execution_count": null,
   "metadata": {},
   "outputs": [],
   "source": [
    "vocab = df['Home'].unique()"
   ]
  },
  {
   "cell_type": "markdown",
   "metadata": {},
   "source": [
    "### Transformar em índices"
   ]
  },
  {
   "cell_type": "code",
   "execution_count": null,
   "metadata": {},
   "outputs": [],
   "source": [
    "word2idx = {word: i for i, word in enumerate(vocab)}"
   ]
  },
  {
   "cell_type": "code",
   "execution_count": null,
   "metadata": {},
   "outputs": [],
   "source": [
    "def word2vector(word):\n",
    "    m = np.zeros(len(word2idx))\n",
    "    m[word2idx.get(word)] = 1\n",
    "    return m"
   ]
  },
  {
   "cell_type": "code",
   "execution_count": null,
   "metadata": {},
   "outputs": [],
   "source": [
    "# Transforma os dois times em um vetor com o flag do time correspondente\n",
    "def prepare(H,A):\n",
    "    vec = [word2vector(H), word2vector(A)]\n",
    "    return np.array(vec).reshape(np.array(vec).shape[1]*2)"
   ]
  },
  {
   "cell_type": "markdown",
   "metadata": {},
   "source": [
    "### Função para indexar os jogos"
   ]
  },
  {
   "cell_type": "code",
   "execution_count": null,
   "metadata": {},
   "outputs": [],
   "source": [
    "def text_to_vector2(text): \n",
    "    return word2idx.get(text, None)\n"
   ]
  },
  {
   "cell_type": "markdown",
   "metadata": {},
   "source": [
    "### Indexar os resultados"
   ]
  },
  {
   "cell_type": "code",
   "execution_count": null,
   "metadata": {},
   "outputs": [],
   "source": [
    "X = []\n",
    "y = []\n",
    "\n",
    "for _, row in df.iterrows():\n",
    "    X.append(prepare(row['Home'], row['Away']))    \n",
    "    n = -row['HG'] + row['AG']\n",
    "    \n",
    "    if np.isnan(n):\n",
    "        n = 0\n",
    "    \n",
    "    y.append(n)\n",
    "    \n",
    "# X = np.array(X).reshape(np.array(X).shape[0],np.array(X).shape[2]*2)"
   ]
  },
  {
   "cell_type": "code",
   "execution_count": null,
   "metadata": {},
   "outputs": [],
   "source": [
    "np.array(X).shape"
   ]
  },
  {
   "cell_type": "markdown",
   "metadata": {},
   "source": [
    "### Separar os datasets de treinamento e teste"
   ]
  },
  {
   "cell_type": "code",
   "execution_count": null,
   "metadata": {},
   "outputs": [],
   "source": [
    "X_train, X_test, y_train, y_test = train_test_split(X, y, test_size=0.33, shuffle=True)"
   ]
  },
  {
   "cell_type": "markdown",
   "metadata": {},
   "source": [
    "### Suport vector machine"
   ]
  },
  {
   "cell_type": "code",
   "execution_count": null,
   "metadata": {},
   "outputs": [],
   "source": [
    "from sklearn.svm import SVR\n",
    "model = SVR(gamma='scale', C=5.0, epsilon=0.2)"
   ]
  },
  {
   "cell_type": "code",
   "execution_count": null,
   "metadata": {},
   "outputs": [],
   "source": [
    "from keras.models import Sequential\n",
    "from keras.layers import Dense, Activation\n",
    "\n",
    "model = Sequential([\n",
    "    Dense(32, input_shape=(784,)),\n",
    "    Activation('relu'),\n",
    "    Dense(10),\n",
    "    Activation('softmax'),\n",
    "])"
   ]
  },
  {
   "cell_type": "markdown",
   "metadata": {},
   "source": [
    "### Random forest"
   ]
  },
  {
   "cell_type": "code",
   "execution_count": null,
   "metadata": {},
   "outputs": [],
   "source": [
    "# from sklearn.ensemble import RandomForestRegressor\n",
    "# from sklearn.datasets import make_regression\n",
    "# model = RandomForestRegressor(max_depth=2, random_state=0, n_estimators=100)"
   ]
  },
  {
   "cell_type": "markdown",
   "metadata": {},
   "source": [
    "### Treinar o modelo"
   ]
  },
  {
   "cell_type": "code",
   "execution_count": null,
   "metadata": {},
   "outputs": [],
   "source": [
    "model.fit(X_train, y_train)"
   ]
  },
  {
   "cell_type": "markdown",
   "metadata": {},
   "source": [
    "### Avaliar precisão"
   ]
  },
  {
   "cell_type": "code",
   "execution_count": null,
   "metadata": {},
   "outputs": [],
   "source": [
    "res = []\n",
    "for j in range(len(X_test)):\n",
    "    r = model.predict([X_test[j]])\n",
    "    res.append(round(r[0],0) - y_test[j])\n",
    "print(round((1 - abs(np.mean(res))) * 100,0), '%')"
   ]
  },
  {
   "cell_type": "markdown",
   "metadata": {},
   "source": [
    "### Salvar o modelo"
   ]
  },
  {
   "cell_type": "code",
   "execution_count": null,
   "metadata": {},
   "outputs": [],
   "source": [
    "from sklearn.externals import joblib"
   ]
  },
  {
   "cell_type": "code",
   "execution_count": null,
   "metadata": {},
   "outputs": [],
   "source": [
    "joblib.dump(model, 'model.joblib')"
   ]
  },
  {
   "cell_type": "code",
   "execution_count": null,
   "metadata": {},
   "outputs": [],
   "source": [
    "model = joblib.load('model.joblib') "
   ]
  },
  {
   "cell_type": "markdown",
   "metadata": {},
   "source": [
    "### Lista de times"
   ]
  },
  {
   "cell_type": "code",
   "execution_count": null,
   "metadata": {},
   "outputs": [],
   "source": [
    "from flask import jsonify"
   ]
  },
  {
   "cell_type": "code",
   "execution_count": null,
   "metadata": {},
   "outputs": [],
   "source": [
    "d = {}"
   ]
  },
  {
   "cell_type": "code",
   "execution_count": null,
   "metadata": {},
   "outputs": [],
   "source": [
    "d['teams'] = vocab.tolist()"
   ]
  },
  {
   "cell_type": "code",
   "execution_count": null,
   "metadata": {},
   "outputs": [],
   "source": [
    "import json\n"
   ]
  },
  {
   "cell_type": "code",
   "execution_count": null,
   "metadata": {},
   "outputs": [],
   "source": [
    "json.dumps(d)"
   ]
  },
  {
   "cell_type": "code",
   "execution_count": null,
   "metadata": {},
   "outputs": [],
   "source": [
    "vocab"
   ]
  },
  {
   "cell_type": "markdown",
   "metadata": {},
   "source": [
    "### Realizar previsão"
   ]
  },
  {
   "cell_type": "code",
   "execution_count": null,
   "metadata": {},
   "outputs": [],
   "source": [
    "H = 'Ceara'\n",
    "A = 'Atletico-MG'\n",
    "\n",
    "p = model.predict([prepare(H,A)])\n",
    "\n",
    "if p < 0:\n",
    "    print(H, 'Vence com ', round(abs(p[0]),3),' gol de diferença')\n",
    "else:\n",
    "    print(A, 'Vence com', round(abs(p[0]),3),' gol de diferença')"
   ]
  },
  {
   "cell_type": "code",
   "execution_count": null,
   "metadata": {},
   "outputs": [],
   "source": []
  }
 ],
 "metadata": {
  "kernelspec": {
   "display_name": "Python 3",
   "language": "python",
   "name": "python3"
  },
  "language_info": {
   "codemirror_mode": {
    "name": "ipython",
    "version": 3
   },
   "file_extension": ".py",
   "mimetype": "text/x-python",
   "name": "python",
   "nbconvert_exporter": "python",
   "pygments_lexer": "ipython3",
   "version": "3.6.6"
  }
 },
 "nbformat": 4,
 "nbformat_minor": 2
}
