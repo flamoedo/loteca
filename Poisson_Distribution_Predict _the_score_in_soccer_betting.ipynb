{
 "cells": [
  {
   "cell_type": "markdown",
   "metadata": {},
   "source": [
    "### Poisson Distribution: Predict the score in soccer betting\n",
    "- How to use Poisson Distribution to predict soccer scores\n",
    "- Using Defence Strength & Attack Strength values\n",
    "- Calculate the most likely score-line\n",
    "- Converting estimated chance into odds"
   ]
  },
  {
   "cell_type": "markdown",
   "metadata": {},
   "source": [
    "### Calculate Attack Strength\n",
    "The ratio of a team's average and the league average is what constitutes “Attack Strength”."
   ]
  },
  {
   "cell_type": "markdown",
   "metadata": {},
   "source": [
    "### Ler arquivo"
   ]
  },
  {
   "cell_type": "code",
   "execution_count": 470,
   "metadata": {},
   "outputs": [],
   "source": [
    "import pandas as pd\n",
    "dfx = pd.read_csv(\"./arquivos/Italy/italy_geral_computed_indices.csv\", parse_dates=[\"Date\"]).reset_index(drop=True)"
   ]
  },
  {
   "cell_type": "code",
   "execution_count": 471,
   "metadata": {},
   "outputs": [],
   "source": [
    "# Season for calc the strenght\n",
    "SEASON = '2017/2018'"
   ]
  },
  {
   "cell_type": "code",
   "execution_count": 472,
   "metadata": {},
   "outputs": [],
   "source": [
    "df = dfx[dfx['SEASON'] == SEASON].sort_values('Date', ascending=True)"
   ]
  },
  {
   "cell_type": "code",
   "execution_count": 473,
   "metadata": {},
   "outputs": [],
   "source": [
    "# p = int(len(dfx)/10)\n",
    "df = df.reset_index(drop=True)"
   ]
  },
  {
   "cell_type": "markdown",
   "metadata": {},
   "source": [
    "League ratio of a team's average and the league average"
   ]
  },
  {
   "cell_type": "code",
   "execution_count": 474,
   "metadata": {},
   "outputs": [],
   "source": [
    "# League average home\n",
    "\n",
    "LAH = df[df['SEASON'] == SEASON]['FTHG'].sum()/df[df['SEASON'] == SEASON]['FTHG'].count()\n"
   ]
  },
  {
   "cell_type": "code",
   "execution_count": 475,
   "metadata": {},
   "outputs": [],
   "source": [
    "# Team average home\n",
    "\n",
    "TAH = df[df['SEASON'] == SEASON].groupby('HomeTeam')['FTHG'].sum()/df[df['SEASON'] == SEASON].groupby('HomeTeam')['FTHG'].count()"
   ]
  },
  {
   "cell_type": "code",
   "execution_count": 476,
   "metadata": {},
   "outputs": [],
   "source": [
    "# Team attack strenght home\n",
    "ASH = {k: v['FTHG'] for k, v in pd.DataFrame(TAH/LAH).iterrows()}"
   ]
  },
  {
   "cell_type": "code",
   "execution_count": 477,
   "metadata": {},
   "outputs": [],
   "source": [
    "# League average Away\n",
    "\n",
    "LAA = df[df['SEASON'] == SEASON]['FTAG'].sum()/df[df['SEASON'] == SEASON]['FTAG'].count()\n"
   ]
  },
  {
   "cell_type": "code",
   "execution_count": 478,
   "metadata": {},
   "outputs": [],
   "source": [
    "# Team average Away\n",
    "\n",
    "TAA = df[df['SEASON'] == SEASON].groupby('AwayTeam')['FTAG'].sum()/df[df['SEASON'] == SEASON].groupby('AwayTeam')['FTAG'].count()"
   ]
  },
  {
   "cell_type": "code",
   "execution_count": 479,
   "metadata": {},
   "outputs": [],
   "source": [
    "# Team attack strenght Away\n",
    "ASA = {k: v['FTAG'] for k, v in pd.DataFrame(TAA/LAA).iterrows()}"
   ]
  },
  {
   "cell_type": "markdown",
   "metadata": {},
   "source": [
    "### Calculate Defence Strength"
   ]
  },
  {
   "cell_type": "code",
   "execution_count": 480,
   "metadata": {},
   "outputs": [],
   "source": [
    "# Team average conceived goals at Home\n",
    "\n",
    "TACGH = df[df['SEASON'] == SEASON].groupby('HomeTeam')['FTAG'].sum()/df[df['SEASON'] == SEASON].groupby('HomeTeam')['FTAG'].count()\n"
   ]
  },
  {
   "cell_type": "code",
   "execution_count": 481,
   "metadata": {},
   "outputs": [],
   "source": [
    "# Defense Strenght Home\n",
    "DSH = {k: v['FTAG'] for k, v in pd.DataFrame(TACGH/LAA).iterrows()}"
   ]
  },
  {
   "cell_type": "code",
   "execution_count": 482,
   "metadata": {},
   "outputs": [],
   "source": [
    "# Team average conceived goals Away\n",
    "TACGA = df[df['SEASON'] == SEASON].groupby('AwayTeam')['FTHG'].sum()/df[df['SEASON'] == SEASON].groupby('AwayTeam')['FTHG'].count()\n"
   ]
  },
  {
   "cell_type": "code",
   "execution_count": 483,
   "metadata": {},
   "outputs": [],
   "source": [
    "# Defense Strenght Away\n",
    "DSA = {k: v['FTHG'] for k, v in pd.DataFrame(TACGA).iterrows()}"
   ]
  },
  {
   "cell_type": "markdown",
   "metadata": {},
   "source": [
    "### We can now use the following formula to calculate the likely number of goals a team might score"
   ]
  },
  {
   "cell_type": "code",
   "execution_count": 484,
   "metadata": {},
   "outputs": [],
   "source": [
    "# Home Score\n",
    "def calc_home_score(H, A):\n",
    "    return ASH[H] * DSA[A] * LAH"
   ]
  },
  {
   "cell_type": "code",
   "execution_count": 485,
   "metadata": {},
   "outputs": [],
   "source": [
    "# Calc away score\n",
    "def calc_away_score(H, A):\n",
    "    return ASA[A] * DSH[H] * LAA"
   ]
  },
  {
   "cell_type": "code",
   "execution_count": 530,
   "metadata": {},
   "outputs": [],
   "source": [
    "def predict(X):\n",
    "    y = []\n",
    "    for x in X:\n",
    "        \n",
    "        home_score = calc_home_score(x[0], x[1])\n",
    "        away_score = calc_away_score(x[0], x[1])\n",
    "        \n",
    "        if abs(home_score - away_score) < home_score * 0.05:\n",
    "            y.append('D')\n",
    "        else:\n",
    "        \n",
    "            if  home_score > away_score:\n",
    "                y.append('H')\n",
    "            else:\n",
    "                y.append('A')\n",
    "            \n",
    "    return y"
   ]
  },
  {
   "cell_type": "code",
   "execution_count": 531,
   "metadata": {},
   "outputs": [],
   "source": [
    "dft = dfx"
   ]
  },
  {
   "cell_type": "code",
   "execution_count": 532,
   "metadata": {},
   "outputs": [],
   "source": [
    "# Prepare the data sets\n",
    "X, y_true = dft[dft['SEASON'] == '2018/2019'][['HomeTeam','AwayTeam']].values, dft[dft['SEASON'] == '2018/2019']['FTR'].values"
   ]
  },
  {
   "cell_type": "code",
   "execution_count": 533,
   "metadata": {},
   "outputs": [],
   "source": [
    "y_pred = predict(X)"
   ]
  },
  {
   "cell_type": "markdown",
   "metadata": {},
   "source": [
    "### Avaliar precisão"
   ]
  },
  {
   "cell_type": "code",
   "execution_count": 534,
   "metadata": {},
   "outputs": [],
   "source": [
    "r = []\n",
    "for i in range(len(y_pred)):   \n",
    "    if y_pred[i] == y_true[i]:        \n",
    "        r.append(1)\n",
    "    else:\n",
    "        r.append(0)   \n",
    "    "
   ]
  },
  {
   "cell_type": "code",
   "execution_count": 535,
   "metadata": {},
   "outputs": [
    {
     "data": {
      "text/plain": [
       "0.5234375"
      ]
     },
     "execution_count": 535,
     "metadata": {},
     "output_type": "execute_result"
    }
   ],
   "source": [
    "np.array(r).mean()"
   ]
  },
  {
   "cell_type": "code",
   "execution_count": null,
   "metadata": {},
   "outputs": [],
   "source": []
  }
 ],
 "metadata": {
  "kernelspec": {
   "display_name": "Python 3",
   "language": "python",
   "name": "python3"
  },
  "language_info": {
   "codemirror_mode": {
    "name": "ipython",
    "version": 3
   },
   "file_extension": ".py",
   "mimetype": "text/x-python",
   "name": "python",
   "nbconvert_exporter": "python",
   "pygments_lexer": "ipython3",
   "version": "3.6.6"
  }
 },
 "nbformat": 4,
 "nbformat_minor": 2
}
