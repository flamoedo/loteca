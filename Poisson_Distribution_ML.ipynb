{
 "cells": [
  {
   "cell_type": "markdown",
   "metadata": {},
   "source": [
    "### Poisson Distribution: Predict the score in soccer betting\n",
    "- How to use Poisson Distribution to predict soccer scores\n",
    "- Using Defence Strength & Attack Strength values\n",
    "- Calculate the most likely score-line\n",
    "- Converting estimated chance into odds"
   ]
  },
  {
   "cell_type": "markdown",
   "metadata": {},
   "source": [
    "### Calculate Attack Strength\n",
    "The ratio of a team's average and the league average is what constitutes “Attack Strength”."
   ]
  },
  {
   "cell_type": "markdown",
   "metadata": {},
   "source": [
    "### Ler arquivo"
   ]
  },
  {
   "cell_type": "code",
   "execution_count": 536,
   "metadata": {},
   "outputs": [],
   "source": [
    "import pandas as pd\n",
    "dfx = pd.read_csv(\"./arquivos/Italy/italy_geral_computed_indices.csv\", parse_dates=[\"Date\"]).reset_index(drop=True)"
   ]
  },
  {
   "cell_type": "code",
   "execution_count": 545,
   "metadata": {},
   "outputs": [
    {
     "data": {
      "text/html": [
       "<div>\n",
       "<style scoped>\n",
       "    .dataframe tbody tr th:only-of-type {\n",
       "        vertical-align: middle;\n",
       "    }\n",
       "\n",
       "    .dataframe tbody tr th {\n",
       "        vertical-align: top;\n",
       "    }\n",
       "\n",
       "    .dataframe thead th {\n",
       "        text-align: right;\n",
       "    }\n",
       "</style>\n",
       "<table border=\"1\" class=\"dataframe\">\n",
       "  <thead>\n",
       "    <tr style=\"text-align: right;\">\n",
       "      <th></th>\n",
       "      <th>Unnamed: 0</th>\n",
       "      <th>Div</th>\n",
       "      <th>Date</th>\n",
       "      <th>HomeTeam</th>\n",
       "      <th>AwayTeam</th>\n",
       "      <th>FTHG</th>\n",
       "      <th>FTAG</th>\n",
       "      <th>FTR</th>\n",
       "      <th>HS</th>\n",
       "      <th>AS</th>\n",
       "      <th>...</th>\n",
       "      <th>HScoredGSum</th>\n",
       "      <th>HConseivedGSum</th>\n",
       "      <th>SumHST</th>\n",
       "      <th>SumHC</th>\n",
       "      <th>AScoredGSum</th>\n",
       "      <th>AConseivedGSum</th>\n",
       "      <th>SumAST</th>\n",
       "      <th>SumAC</th>\n",
       "      <th>RankH</th>\n",
       "      <th>RankA</th>\n",
       "    </tr>\n",
       "  </thead>\n",
       "  <tbody>\n",
       "    <tr>\n",
       "      <th>0</th>\n",
       "      <td>0</td>\n",
       "      <td>I1</td>\n",
       "      <td>2018-12-05</td>\n",
       "      <td>Benevento</td>\n",
       "      <td>Genoa</td>\n",
       "      <td>1.0</td>\n",
       "      <td>0.0</td>\n",
       "      <td>H</td>\n",
       "      <td>14.0</td>\n",
       "      <td>13.0</td>\n",
       "      <td>...</td>\n",
       "      <td>17.0</td>\n",
       "      <td>20.0</td>\n",
       "      <td>64.0</td>\n",
       "      <td>63.0</td>\n",
       "      <td>10.0</td>\n",
       "      <td>15.0</td>\n",
       "      <td>29.0</td>\n",
       "      <td>31.0</td>\n",
       "      <td>0.0</td>\n",
       "      <td>18.0</td>\n",
       "    </tr>\n",
       "    <tr>\n",
       "      <th>1</th>\n",
       "      <td>1</td>\n",
       "      <td>I1</td>\n",
       "      <td>2018-12-05</td>\n",
       "      <td>Inter</td>\n",
       "      <td>Sassuolo</td>\n",
       "      <td>1.0</td>\n",
       "      <td>2.0</td>\n",
       "      <td>A</td>\n",
       "      <td>16.0</td>\n",
       "      <td>13.0</td>\n",
       "      <td>...</td>\n",
       "      <td>18.0</td>\n",
       "      <td>8.0</td>\n",
       "      <td>69.0</td>\n",
       "      <td>71.0</td>\n",
       "      <td>9.0</td>\n",
       "      <td>14.0</td>\n",
       "      <td>46.0</td>\n",
       "      <td>42.0</td>\n",
       "      <td>23.0</td>\n",
       "      <td>16.0</td>\n",
       "    </tr>\n",
       "    <tr>\n",
       "      <th>2</th>\n",
       "      <td>2</td>\n",
       "      <td>I1</td>\n",
       "      <td>2018-11-26</td>\n",
       "      <td>Cagliari</td>\n",
       "      <td>Torino</td>\n",
       "      <td>0.0</td>\n",
       "      <td>0.0</td>\n",
       "      <td>D</td>\n",
       "      <td>3.0</td>\n",
       "      <td>8.0</td>\n",
       "      <td>...</td>\n",
       "      <td>10.0</td>\n",
       "      <td>8.0</td>\n",
       "      <td>36.0</td>\n",
       "      <td>56.0</td>\n",
       "      <td>11.0</td>\n",
       "      <td>13.0</td>\n",
       "      <td>35.0</td>\n",
       "      <td>44.0</td>\n",
       "      <td>10.0</td>\n",
       "      <td>14.0</td>\n",
       "    </tr>\n",
       "    <tr>\n",
       "      <th>6</th>\n",
       "      <td>6</td>\n",
       "      <td>I1</td>\n",
       "      <td>2018-11-25</td>\n",
       "      <td>Lazio</td>\n",
       "      <td>Milan</td>\n",
       "      <td>1.0</td>\n",
       "      <td>1.0</td>\n",
       "      <td>D</td>\n",
       "      <td>16.0</td>\n",
       "      <td>9.0</td>\n",
       "      <td>...</td>\n",
       "      <td>18.0</td>\n",
       "      <td>13.0</td>\n",
       "      <td>54.0</td>\n",
       "      <td>68.0</td>\n",
       "      <td>17.0</td>\n",
       "      <td>10.0</td>\n",
       "      <td>61.0</td>\n",
       "      <td>51.0</td>\n",
       "      <td>17.0</td>\n",
       "      <td>22.0</td>\n",
       "    </tr>\n",
       "    <tr>\n",
       "      <th>8</th>\n",
       "      <td>8</td>\n",
       "      <td>I1</td>\n",
       "      <td>2018-11-25</td>\n",
       "      <td>Empoli</td>\n",
       "      <td>Atalanta</td>\n",
       "      <td>3.0</td>\n",
       "      <td>2.0</td>\n",
       "      <td>H</td>\n",
       "      <td>12.0</td>\n",
       "      <td>8.0</td>\n",
       "      <td>...</td>\n",
       "      <td>11.0</td>\n",
       "      <td>10.0</td>\n",
       "      <td>40.0</td>\n",
       "      <td>51.0</td>\n",
       "      <td>16.0</td>\n",
       "      <td>14.0</td>\n",
       "      <td>59.0</td>\n",
       "      <td>64.0</td>\n",
       "      <td>8.0</td>\n",
       "      <td>19.0</td>\n",
       "    </tr>\n",
       "  </tbody>\n",
       "</table>\n",
       "<p>5 rows × 34 columns</p>\n",
       "</div>"
      ],
      "text/plain": [
       "   Unnamed: 0 Div       Date   HomeTeam  AwayTeam  FTHG  FTAG FTR    HS    AS  \\\n",
       "0           0  I1 2018-12-05  Benevento     Genoa   1.0   0.0   H  14.0  13.0   \n",
       "1           1  I1 2018-12-05      Inter  Sassuolo   1.0   2.0   A  16.0  13.0   \n",
       "2           2  I1 2018-11-26   Cagliari    Torino   0.0   0.0   D   3.0   8.0   \n",
       "6           6  I1 2018-11-25      Lazio     Milan   1.0   1.0   D  16.0   9.0   \n",
       "8           8  I1 2018-11-25     Empoli  Atalanta   3.0   2.0   H  12.0   8.0   \n",
       "\n",
       "   ...    HScoredGSum  HConseivedGSum  SumHST  SumHC  AScoredGSum  \\\n",
       "0  ...           17.0            20.0    64.0   63.0         10.0   \n",
       "1  ...           18.0             8.0    69.0   71.0          9.0   \n",
       "2  ...           10.0             8.0    36.0   56.0         11.0   \n",
       "6  ...           18.0            13.0    54.0   68.0         17.0   \n",
       "8  ...           11.0            10.0    40.0   51.0         16.0   \n",
       "\n",
       "   AConseivedGSum  SumAST  SumAC  RankH  RankA  \n",
       "0            15.0    29.0   31.0    0.0   18.0  \n",
       "1            14.0    46.0   42.0   23.0   16.0  \n",
       "2            13.0    35.0   44.0   10.0   14.0  \n",
       "6            10.0    61.0   51.0   17.0   22.0  \n",
       "8            14.0    59.0   64.0    8.0   19.0  \n",
       "\n",
       "[5 rows x 34 columns]"
      ]
     },
     "execution_count": 545,
     "metadata": {},
     "output_type": "execute_result"
    }
   ],
   "source": [
    "df.head()"
   ]
  },
  {
   "cell_type": "code",
   "execution_count": null,
   "metadata": {},
   "outputs": [],
   "source": []
  },
  {
   "cell_type": "code",
   "execution_count": 540,
   "metadata": {},
   "outputs": [],
   "source": [
    "# Season for calc the strenght\n",
    "DateStart = '01-01-2017'"
   ]
  },
  {
   "cell_type": "code",
   "execution_count": 546,
   "metadata": {},
   "outputs": [],
   "source": [
    "df = dfx[dfx['Date'] >= '01-01-2017'].sort_values('Date', ascending=False).reset_index(drop=True)"
   ]
  },
  {
   "cell_type": "code",
   "execution_count": 548,
   "metadata": {},
   "outputs": [
    {
     "ename": "SyntaxError",
     "evalue": "unexpected EOF while parsing (<ipython-input-548-41e80118f7d4>, line 1)",
     "output_type": "error",
     "traceback": [
      "\u001b[1;36m  File \u001b[1;32m\"<ipython-input-548-41e80118f7d4>\"\u001b[1;36m, line \u001b[1;32m1\u001b[0m\n\u001b[1;33m    for ind, row in df.iterrows():\u001b[0m\n\u001b[1;37m                                  ^\u001b[0m\n\u001b[1;31mSyntaxError\u001b[0m\u001b[1;31m:\u001b[0m unexpected EOF while parsing\n"
     ]
    }
   ],
   "source": [
    "for ind, row in df.iterrows():\n",
    "    # League average home\n",
    "    LAH = df[ind+1:]['FTHG'].sum()/df[df['SEASON'] == SEASON]['FTHG'].count()\n",
    "    \n",
    "    # Team average home\n",
    "    TAH = df[ind+1].groupby('HomeTeam')['FTHG'].sum()/df[ind+1:].groupby('HomeTeam')['FTHG'].count()\n",
    "    \n",
    "    # Team attack strenght home\n",
    "    ASH = {k: v['FTHG'] for k, v in pd.DataFrame(TAH/LAH).iterrows()}\n",
    "\n",
    "    # League average Away\n",
    "    LAA = df[df['SEASON'] == SEASON]['FTAG'].sum()/df[df['SEASON'] == SEASON]['FTAG'].count()\n",
    "\n",
    "    # Team average Away\n",
    "    TAA = df[df['SEASON'] == SEASON].groupby('AwayTeam')['FTAG'].sum()/df[df['SEASON'] == SEASON].groupby('AwayTeam')['FTAG'].count()\n",
    "\n",
    "    # Team attack strenght Away\n",
    "    ASA = {k: v['FTAG'] for k, v in pd.DataFrame(TAA/LAA).iterrows()}\n",
    "    \n",
    "    # Team average conceived goals at Home\n",
    "    TACGH = df[df['SEASON'] == SEASON].groupby('HomeTeam')['FTAG'].sum()/df[df['SEASON'] == SEASON].groupby('HomeTeam')['FTAG'].count()\n",
    "\n",
    "    # Defense Strenght Home\n",
    "    DSH = {k: v['FTAG'] for k, v in pd.DataFrame(TACGH/LAA).iterrows()}\n",
    "    \n",
    "    # Team average conceived goals Away\n",
    "    TACGA = df[df['SEASON'] == SEASON].groupby('AwayTeam')['FTHG'].sum()/df[df['SEASON'] == SEASON].groupby('AwayTeam')['FTHG'].count()\n",
    "\n",
    "    # Defense Strenght Away\n",
    "    DSA = {k: v['FTHG'] for k, v in pd.DataFrame(TACGA).iterrows()}\n",
    "    \n",
    "    \n",
    "    "
   ]
  },
  {
   "cell_type": "markdown",
   "metadata": {},
   "source": [
    "League ratio of a team's average and the league average"
   ]
  },
  {
   "cell_type": "code",
   "execution_count": 476,
   "metadata": {},
   "outputs": [],
   "source": [
    "# Team attack strenght home\n",
    "ASH = {k: v['FTHG'] for k, v in pd.DataFrame(TAH/LAH).iterrows()}"
   ]
  },
  {
   "cell_type": "code",
   "execution_count": 477,
   "metadata": {},
   "outputs": [],
   "source": [
    "# League average Away\n",
    "\n",
    "LAA = df[df['SEASON'] == SEASON]['FTAG'].sum()/df[df['SEASON'] == SEASON]['FTAG'].count()\n"
   ]
  },
  {
   "cell_type": "code",
   "execution_count": 478,
   "metadata": {},
   "outputs": [],
   "source": [
    "# Team average Away\n",
    "\n",
    "TAA = df[df['SEASON'] == SEASON].groupby('AwayTeam')['FTAG'].sum()/df[df['SEASON'] == SEASON].groupby('AwayTeam')['FTAG'].count()"
   ]
  },
  {
   "cell_type": "code",
   "execution_count": 479,
   "metadata": {},
   "outputs": [],
   "source": [
    "# Team attack strenght Away\n",
    "ASA = {k: v['FTAG'] for k, v in pd.DataFrame(TAA/LAA).iterrows()}"
   ]
  },
  {
   "cell_type": "markdown",
   "metadata": {},
   "source": [
    "### Calculate Defence Strength"
   ]
  },
  {
   "cell_type": "code",
   "execution_count": 480,
   "metadata": {},
   "outputs": [],
   "source": [
    "# Team average conceived goals at Home\n",
    "\n",
    "TACGH = df[df['SEASON'] == SEASON].groupby('HomeTeam')['FTAG'].sum()/df[df['SEASON'] == SEASON].groupby('HomeTeam')['FTAG'].count()\n"
   ]
  },
  {
   "cell_type": "code",
   "execution_count": 481,
   "metadata": {},
   "outputs": [],
   "source": [
    "# Defense Strenght Home\n",
    "DSH = {k: v['FTAG'] for k, v in pd.DataFrame(TACGH/LAA).iterrows()}"
   ]
  },
  {
   "cell_type": "code",
   "execution_count": 482,
   "metadata": {},
   "outputs": [],
   "source": [
    "# Team average conceived goals Away\n",
    "TACGA = df[df['SEASON'] == SEASON].groupby('AwayTeam')['FTHG'].sum()/df[df['SEASON'] == SEASON].groupby('AwayTeam')['FTHG'].count()\n"
   ]
  },
  {
   "cell_type": "code",
   "execution_count": 483,
   "metadata": {},
   "outputs": [],
   "source": [
    "# Defense Strenght Away\n",
    "DSA = {k: v['FTHG'] for k, v in pd.DataFrame(TACGA).iterrows()}"
   ]
  },
  {
   "cell_type": "markdown",
   "metadata": {},
   "source": [
    "### We can now use the following formula to calculate the likely number of goals a team might score"
   ]
  },
  {
   "cell_type": "code",
   "execution_count": 484,
   "metadata": {},
   "outputs": [],
   "source": [
    "# Home Score\n",
    "def calc_home_score(H, A):\n",
    "    return ASH[H] * DSA[A] * LAH"
   ]
  },
  {
   "cell_type": "code",
   "execution_count": 485,
   "metadata": {},
   "outputs": [],
   "source": [
    "# Calc away score\n",
    "def calc_away_score(H, A):\n",
    "    return ASA[A] * DSH[H] * LAA"
   ]
  },
  {
   "cell_type": "code",
   "execution_count": 530,
   "metadata": {},
   "outputs": [],
   "source": [
    "def predict(X):\n",
    "    y = []\n",
    "    for x in X:\n",
    "        \n",
    "        home_score = calc_home_score(x[0], x[1])\n",
    "        away_score = calc_away_score(x[0], x[1])\n",
    "        \n",
    "        if abs(home_score - away_score) < home_score * 0.05:\n",
    "            y.append('D')\n",
    "        else:\n",
    "        \n",
    "            if  home_score > away_score:\n",
    "                y.append('H')\n",
    "            else:\n",
    "                y.append('A')\n",
    "            \n",
    "    return y"
   ]
  },
  {
   "cell_type": "code",
   "execution_count": 531,
   "metadata": {},
   "outputs": [],
   "source": [
    "dft = dfx"
   ]
  },
  {
   "cell_type": "code",
   "execution_count": 532,
   "metadata": {},
   "outputs": [],
   "source": [
    "# Prepare the data sets\n",
    "X, y_true = dft[dft['SEASON'] == '2018/2019'][['HomeTeam','AwayTeam']].values, dft[dft['SEASON'] == '2018/2019']['FTR'].values"
   ]
  },
  {
   "cell_type": "code",
   "execution_count": 533,
   "metadata": {},
   "outputs": [],
   "source": [
    "y_pred = predict(X)"
   ]
  },
  {
   "cell_type": "markdown",
   "metadata": {},
   "source": [
    "### Avaliar precisão"
   ]
  },
  {
   "cell_type": "code",
   "execution_count": 534,
   "metadata": {},
   "outputs": [],
   "source": [
    "r = []\n",
    "for i in range(len(y_pred)):   \n",
    "    if y_pred[i] == y_true[i]:        \n",
    "        r.append(1)\n",
    "    else:\n",
    "        r.append(0)   \n",
    "    "
   ]
  },
  {
   "cell_type": "code",
   "execution_count": 535,
   "metadata": {},
   "outputs": [
    {
     "data": {
      "text/plain": [
       "0.5234375"
      ]
     },
     "execution_count": 535,
     "metadata": {},
     "output_type": "execute_result"
    }
   ],
   "source": [
    "np.array(r).mean()"
   ]
  },
  {
   "cell_type": "code",
   "execution_count": null,
   "metadata": {},
   "outputs": [],
   "source": []
  }
 ],
 "metadata": {
  "kernelspec": {
   "display_name": "Python 3",
   "language": "python",
   "name": "python3"
  },
  "language_info": {
   "codemirror_mode": {
    "name": "ipython",
    "version": 3
   },
   "file_extension": ".py",
   "mimetype": "text/x-python",
   "name": "python",
   "nbconvert_exporter": "python",
   "pygments_lexer": "ipython3",
   "version": "3.6.6"
  }
 },
 "nbformat": 4,
 "nbformat_minor": 2
}
